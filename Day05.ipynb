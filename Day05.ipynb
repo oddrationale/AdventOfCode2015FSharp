{
 "cells": [
  {
   "cell_type": "markdown",
   "metadata": {},
   "source": [
    "<h2>--- Day 5: Doesn&apos;t He Have Intern-Elves For This? ---</h2>"
   ]
  },
  {
   "cell_type": "markdown",
   "metadata": {},
   "source": [
    "[![Binder](https://mybinder.org/badge_logo.svg)](https://mybinder.org/v2/gh/oddrationale/AdventOfCode2015FSharp/master?urlpath=lab%2Ftree%2FDay05.ipynb)"
   ]
  },
  {
   "cell_type": "markdown",
   "metadata": {},
   "source": [
    "<p>Santa needs help figuring out which strings in his text file are naughty or nice.</p>\n",
    "<p>A <em>nice string</em> is one with all of the following properties:</p>\n",
    "<ul>\n",
    "<li>It contains at least three vowels (<code>aeiou</code> only), like <code>aei</code>, <code>xazegov</code>, or <code title=\"John Madden John Madden John Madden\">aeiouaeiouaeiou</code>.</li>\n",
    "<li>It contains at least one letter that appears twice in a row, like <code>xx</code>, <code>abcdde</code> (<code>dd</code>), or <code>aabbccdd</code> (<code>aa</code>, <code>bb</code>, <code>cc</code>, or <code>dd</code>).</li>\n",
    "<li>It does <em>not</em> contain the strings <code>ab</code>, <code>cd</code>, <code>pq</code>, or <code>xy</code>, even if they are part of one of the other requirements.</li>\n",
    "</ul>\n",
    "<p>For example:</p>\n",
    "<ul>\n",
    "<li><code>ugknbfddgicrmopn</code> is nice because it has at least three vowels (<code>u...i...o...</code>), a double letter (<code>...dd...</code>), and none of the disallowed substrings.</li>\n",
    "<li><code>aaa</code> is nice because it has at least three vowels and a double letter, even though the letters used by different rules overlap.</li>\n",
    "<li><code>jchzalrnumimnmhp</code> is naughty because it has no double letter.</li>\n",
    "<li><code>haegwjzuvuyypxyu</code> is naughty because it contains the string <code>xy</code>.</li>\n",
    "<li><code>dvszwmarrgswjxmb</code> is naughty because it contains only one vowel.</li>\n",
    "</ul>\n",
    "<p>How many strings are nice?</p>"
   ]
  },
  {
   "cell_type": "code",
   "execution_count": null,
   "metadata": {
    "dotnet_interactive": {
     "language": "fsharp"
    }
   },
   "outputs": [],
   "source": [
    "let input = File.ReadAllLines @\"input/05.txt\""
   ]
  },
  {
   "cell_type": "code",
   "execution_count": null,
   "metadata": {
    "dotnet_interactive": {
     "language": "fsharp"
    }
   },
   "outputs": [],
   "source": [
    "let containsAtLeastThreeVowels (s: string) = \n",
    "    let vowels = [| 'a'; 'e'; 'i'; 'o'; 'u' |]\n",
    "    s\n",
    "    |> Seq.filter (fun c -> Array.contains c vowels)\n",
    "    |> Seq.length >= 3"
   ]
  },
  {
   "cell_type": "code",
   "execution_count": null,
   "metadata": {
    "dotnet_interactive": {
     "language": "fsharp"
    }
   },
   "outputs": [],
   "source": [
    "let containsDoubleLetter (s: string) = \n",
    "    s\n",
    "    |> Seq.windowed 2\n",
    "    |> Seq.exists (fun arr -> arr.[0] = arr.[1])"
   ]
  },
  {
   "cell_type": "code",
   "execution_count": null,
   "metadata": {
    "dotnet_interactive": {
     "language": "fsharp"
    }
   },
   "outputs": [],
   "source": [
    "let doesNotContain (arr: string[]) (s: string) =\n",
    "    arr\n",
    "    |> Seq.forall (fun item -> item |> s.Contains |> not)"
   ]
  },
  {
   "cell_type": "code",
   "execution_count": null,
   "metadata": {
    "dotnet_interactive": {
     "language": "fsharp"
    }
   },
   "outputs": [],
   "source": [
    "let isNice (s: string) = \n",
    "    containsAtLeastThreeVowels s\n",
    "    && containsDoubleLetter s\n",
    "    && doesNotContain [| \"ab\"; \"cd\"; \"pq\"; \"xy\" |] s"
   ]
  },
  {
   "cell_type": "code",
   "execution_count": null,
   "metadata": {
    "dotnet_interactive": {
     "language": "fsharp"
    }
   },
   "outputs": [
    {
     "data": {
      "text/html": [
       "<div class=\"dni-plaintext\">236</div>"
      ]
     },
     "metadata": {},
     "output_type": "display_data"
    }
   ],
   "source": [
    "input\n",
    "|> Seq.filter isNice\n",
    "|> Seq.length"
   ]
  },
  {
   "cell_type": "markdown",
   "metadata": {},
   "source": [
    "<h2 id=\"part2\">--- Part Two ---</h2>"
   ]
  },
  {
   "cell_type": "markdown",
   "metadata": {},
   "source": [
    "<p>Realizing the error of his ways, Santa has switched to a better model of determining whether a string is naughty or nice.  None of the old rules apply, as they are all clearly ridiculous.</p>\n",
    "<p>Now, a nice string is one with all of the following properties:</p>\n",
    "<ul>\n",
    "<li>It contains a pair of any two letters that appears at least twice in the string without overlapping, like <code>xyxy</code> (<code>xy</code>) or <code>aabcdefgaa</code> (<code>aa</code>), but not like <code>aaa</code> (<code>aa</code>, but it overlaps).</li>\n",
    "<li>It contains at least one letter which repeats with exactly one letter between them, like <code>xyx</code>, <code>abcdefeghi</code> (<code>efe</code>), or even <code>aaa</code>.</li>\n",
    "</ul>\n",
    "<p>For example:</p>\n",
    "<ul>\n",
    "<li><code>qjhvhtzxzqqjkmpb</code> is nice because is has a pair that appears twice (<code>qj</code>) and a letter that repeats with exactly one letter between them (<code>zxz</code>).</li>\n",
    "<li><code>xxyxx</code> is nice because it has a pair that appears twice and a letter that repeats with one between, even though the letters used by each rule overlap.</li>\n",
    "<li><code>uurcxstgmygtbstg</code> is naughty because it has a pair (<code>tg</code>) but no repeat with a single letter between them.</li>\n",
    "<li><code>ieodomkazucvgmuy</code> is naughty because it has a repeating letter with one between (<code>odo</code>), but no pair that appears twice.</li>\n",
    "</ul>\n",
    "<p>How many strings are nice under these new rules?</p>"
   ]
  },
  {
   "cell_type": "code",
   "execution_count": null,
   "metadata": {
    "dotnet_interactive": {
     "language": "fsharp"
    }
   },
   "outputs": [],
   "source": [
    "let containsAtLeastTwoPairs (s: string) = \n",
    "    s\n",
    "    |> Seq.windowed 2\n",
    "    |> Seq.map (fun arr -> $\"{arr.[0]}{arr.[1]}\")\n",
    "    |> Seq.exists (fun pair -> pair |> s.Split |> Seq.length >= 3)"
   ]
  },
  {
   "cell_type": "code",
   "execution_count": null,
   "metadata": {
    "dotnet_interactive": {
     "language": "fsharp"
    }
   },
   "outputs": [],
   "source": [
    "let containsRepeatWithOneBetween (s: string) = \n",
    "    s\n",
    "    |> Seq.windowed 3\n",
    "    |> Seq.exists (fun arr -> arr.[0] = arr.[2])"
   ]
  },
  {
   "cell_type": "code",
   "execution_count": null,
   "metadata": {
    "dotnet_interactive": {
     "language": "fsharp"
    }
   },
   "outputs": [],
   "source": [
    "let isReallyNice (s: string) = \n",
    "    containsAtLeastTwoPairs s\n",
    "    && containsRepeatWithOneBetween s"
   ]
  },
  {
   "cell_type": "code",
   "execution_count": null,
   "metadata": {
    "dotnet_interactive": {
     "language": "fsharp"
    }
   },
   "outputs": [
    {
     "data": {
      "text/html": [
       "<div class=\"dni-plaintext\">51</div>"
      ]
     },
     "metadata": {},
     "output_type": "display_data"
    }
   ],
   "source": [
    "input\n",
    "|> Seq.filter isReallyNice\n",
    "|> Seq.length"
   ]
  },
  {
   "cell_type": "markdown",
   "metadata": {},
   "source": [
    "[Prev](Day04.ipynb) | [Next](Day06.ipynb)"
   ]
  }
 ],
 "metadata": {
  "kernelspec": {
   "display_name": ".NET (F#)",
   "language": "F#",
   "name": ".net-fsharp"
  },
  "language_info": {
   "file_extension": ".fs",
   "mimetype": "text/x-fsharp",
   "name": "C#",
   "pygments_lexer": "fsharp",
   "version": "4.5"
  }
 },
 "nbformat": 4,
 "nbformat_minor": 4
}
