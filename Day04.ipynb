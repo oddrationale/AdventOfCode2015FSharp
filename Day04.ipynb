{
 "cells": [
  {
   "cell_type": "markdown",
   "id": "2b032eb6-c33b-449b-bad1-50c69fed77d3",
   "metadata": {},
   "source": [
    "<h2>--- Day 4: The Ideal Stocking Stuffer ---</h2>"
   ]
  },
  {
   "cell_type": "markdown",
   "id": "1ebe058e-3960-4a69-bd5b-5644f679ffed",
   "metadata": {},
   "source": [
    "[![Binder](https://mybinder.org/badge_logo.svg)](https://mybinder.org/v2/gh/oddrationale/AdventOfCode2015FSharp/master?urlpath=lab%2Ftree%2FDay04.ipynb)"
   ]
  },
  {
   "cell_type": "markdown",
   "id": "8ed0f8a0-4f32-4a18-b740-88d5fb3c8c6d",
   "metadata": {},
   "source": [
    "<p>Santa needs help <a href=\"https://en.wikipedia.org/wiki/Bitcoin#Mining\">mining</a> some <span title=\"Hey, mined your own business!\">AdventCoins</span> (very similar to <a href=\"https://en.wikipedia.org/wiki/Bitcoin\">bitcoins</a>) to use as gifts for all the economically forward-thinking little girls and boys.</p>\n",
    "<p>To do this, he needs to find <a href=\"https://en.wikipedia.org/wiki/MD5\">MD5</a> hashes which, in <a href=\"https://en.wikipedia.org/wiki/Hexadecimal\">hexadecimal</a>, start with at least <em>five zeroes</em>.  The input to the MD5 hash is some secret key (your puzzle input, given below) followed by a number in decimal. To mine AdventCoins, you must find Santa the lowest positive number (no leading zeroes: <code>1</code>, <code>2</code>, <code>3</code>, ...) that produces such a hash.</p>\n",
    "<p>For example:</p>\n",
    "<ul>\n",
    "<li>If your secret key is <code>abcdef</code>, the answer is <code>609043</code>, because the MD5 hash of <code>abcdef609043</code> starts with five zeroes (<code>000001dbbfa...</code>), and it is the lowest such number to do so.</li>\n",
    "<li>If your secret key is <code>pqrstuv</code>, the lowest number it combines with to make an MD5 hash starting with five zeroes is <code>1048970</code>; that is, the MD5 hash of <code>pqrstuv1048970</code> looks like <code>000006136ef...</code>.</li>\n",
    "</ul>"
   ]
  },
  {
   "cell_type": "code",
   "execution_count": null,
   "id": "9d35dfc9-31f9-4c9d-9134-842d0d62cdd8",
   "metadata": {
    "dotnet_interactive": {
     "language": "fsharp"
    }
   },
   "outputs": [],
   "source": [
    "let input = File.ReadAllText @\"input/04.txt\""
   ]
  },
  {
   "cell_type": "code",
   "execution_count": null,
   "id": "c7e9ce25-2064-4915-a6cd-37cff9d28145",
   "metadata": {
    "dotnet_interactive": {
     "language": "fsharp"
    }
   },
   "outputs": [],
   "source": [
    "open System.Security.Cryptography\n",
    "open System.Text"
   ]
  },
  {
   "cell_type": "code",
   "execution_count": null,
   "id": "6a8d29ae-3458-45a3-8366-75c44b0296b4",
   "metadata": {
    "dotnet_interactive": {
     "language": "fsharp"
    }
   },
   "outputs": [],
   "source": [
    "let md5sum (text: string) =\n",
    "    let hashBytes = text |> Encoding.UTF8.GetBytes |> MD5.HashData\n",
    "    let sb = new StringBuilder()\n",
    "    for i in hashBytes do sb.Append(i.ToString(\"X2\")) |> ignore\n",
    "    sb.ToString()"
   ]
  },
  {
   "cell_type": "markdown",
   "id": "4a9e2158-5ca7-4586-9da0-1d2abb635a04",
   "metadata": {},
   "source": [
    "Create an infinite sequence of consecutive numbers."
   ]
  },
  {
   "cell_type": "code",
   "execution_count": null,
   "id": "c4190406-e158-4d37-a0d4-8eb0b2a2142d",
   "metadata": {
    "dotnet_interactive": {
     "language": "fsharp"
    }
   },
   "outputs": [],
   "source": [
    "let numbers = (+) 1 |> Seq.initInfinite"
   ]
  },
  {
   "cell_type": "markdown",
   "id": "41be2640-3a0f-4ce0-9370-4996f4c64a80",
   "metadata": {},
   "source": [
    "Create tuples of the number and the hash. Find the first one where the hash starts with \"00000\"."
   ]
  },
  {
   "cell_type": "code",
   "execution_count": null,
   "id": "1a6c5252-4356-46f3-acbb-4e41c81f70e0",
   "metadata": {
    "dotnet_interactive": {
     "language": "fsharp"
    }
   },
   "outputs": [
    {
     "data": {
      "text/html": [
       "<div class=\"dni-plaintext\">117946</div>"
      ]
     },
     "metadata": {},
     "output_type": "display_data"
    },
    {
     "data": {
      "text/plain": [
       "Wall time: 601.0236ms"
      ]
     },
     "metadata": {},
     "output_type": "display_data"
    }
   ],
   "source": [
    "#!time\n",
    "numbers\n",
    "|> Seq.map (fun x -> (x, input + x.ToString() |> md5sum))\n",
    "|> Seq.filter (fun h -> (snd h).StartsWith(\"00000\"))\n",
    "|> Seq.head\n",
    "|> fst"
   ]
  },
  {
   "cell_type": "markdown",
   "id": "2cb716a1-f383-4aa8-844f-d8a7e6a9c23d",
   "metadata": {},
   "source": [
    "<h2 id=\"part2\">--- Part Two ---</h2>"
   ]
  },
  {
   "cell_type": "markdown",
   "id": "eb34caac-da8e-413b-a785-7c3bd1a28682",
   "metadata": {},
   "source": [
    "<p>Now find one that starts with <em>six zeroes</em>.</p>"
   ]
  },
  {
   "cell_type": "code",
   "execution_count": null,
   "id": "916546f9-00a9-45dc-b728-897b859c12ce",
   "metadata": {
    "dotnet_interactive": {
     "language": "fsharp"
    }
   },
   "outputs": [
    {
     "data": {
      "text/html": [
       "<div class=\"dni-plaintext\">3938038</div>"
      ]
     },
     "metadata": {},
     "output_type": "display_data"
    },
    {
     "data": {
      "text/plain": [
       "Wall time: 7001.2326ms"
      ]
     },
     "metadata": {},
     "output_type": "display_data"
    }
   ],
   "source": [
    "#!time\n",
    "numbers\n",
    "|> Seq.map (fun x -> (x, input + x.ToString() |> md5sum))\n",
    "|> Seq.filter (fun h -> (snd h).StartsWith(\"000000\"))\n",
    "|> Seq.head\n",
    "|> fst"
   ]
  },
  {
   "cell_type": "markdown",
   "id": "c6f4b3ea-623c-44d0-81c3-b91e93110bdc",
   "metadata": {},
   "source": [
    "[Prev](Day03.ipynb) | [Next](Day05.ipynb)"
   ]
  }
 ],
 "metadata": {
  "kernelspec": {
   "display_name": ".NET (F#)",
   "language": "F#",
   "name": ".net-fsharp"
  },
  "language_info": {
   "file_extension": ".fs",
   "mimetype": "text/x-fsharp",
   "name": "C#",
   "pygments_lexer": "fsharp",
   "version": "4.5"
  }
 },
 "nbformat": 4,
 "nbformat_minor": 5
}
