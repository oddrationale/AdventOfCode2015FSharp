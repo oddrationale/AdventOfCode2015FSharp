{
 "cells": [
  {
   "cell_type": "markdown",
   "id": "97d54e56-fe6b-445d-b464-0492bb96b1ec",
   "metadata": {},
   "source": [
    "<h2>--- Day 2: I Was Told There Would Be No Math ---</h2>"
   ]
  },
  {
   "cell_type": "markdown",
   "id": "0c0ea4b9-9890-4cc7-ae8a-982c8accf581",
   "metadata": {},
   "source": [
    "[![Binder](https://mybinder.org/badge_logo.svg)](https://mybinder.org/v2/gh/oddrationale/AdventOfCode2015FSharp/master?urlpath=lab%2Ftree%2FDay02.ipynb)"
   ]
  },
  {
   "cell_type": "markdown",
   "id": "1c9dea0e-6f79-49d8-8403-4593ada39c7c",
   "metadata": {},
   "source": [
    "<p>The elves are running low on wrapping paper, and so they need to submit an order for more.  They have a list of the dimensions (length <code>l</code>, width <code>w</code>, and height <code>h</code>) of each present, and only want to order exactly as much as they need.</p>\n",
    "<p>Fortunately, every present is a box (a perfect <a href=\"https://en.wikipedia.org/wiki/Cuboid#Rectangular_cuboid\">right rectangular prism</a>), which makes calculating the required wrapping paper for each gift a little easier: find the surface area of the box, which is <code>2*l*w + 2*w*h + 2*h*l</code>.  The elves also need a little extra paper for each present: the area of the smallest side.</p>\n",
    "<p>For example:</p>\n",
    "<ul>\n",
    "<li>A present with dimensions <code>2x3x4</code> requires <code>2*6 + 2*12 + 2*8 = 52</code> square feet of wrapping paper plus <code>6</code> square feet of slack, for a total of <code>58</code> square feet.</li>\n",
    "<li>A present with dimensions <code>1x1x10</code> requires <code>2*1 + 2*10 + 2*10 = 42</code> square feet of wrapping paper plus <code>1</code> square foot of slack, for a total of <code>43</code> square feet.</li>\n",
    "</ul>\n",
    "<p>All numbers in the elves' list are in <span title=\"Yes, I realize most of these presents are luxury yachts.\">feet</span>.  How many total <em>square feet of wrapping paper</em> should they order?</p>"
   ]
  },
  {
   "cell_type": "code",
   "execution_count": 1,
   "id": "dd9b3c37-1b58-4cd6-977b-00ae88ddd182",
   "metadata": {
    "dotnet_interactive": {
     "language": "fsharp"
    }
   },
   "outputs": [
    {
     "data": {
      "text/html": [
       "\r\n",
       "<div>\r\n",
       "    <div id='dotnet-interactive-this-cell-22176.Microsoft.DotNet.Interactive.Http.HttpPort' style='display: none'>\r\n",
       "        The below script needs to be able to find the current output cell; this is an easy method to get it.\r\n",
       "    </div>\r\n",
       "    <script type='text/javascript'>\r\n",
       "async function probeAddresses(probingAddresses) {\r\n",
       "    function timeout(ms, promise) {\r\n",
       "        return new Promise(function (resolve, reject) {\r\n",
       "            setTimeout(function () {\r\n",
       "                reject(new Error('timeout'))\r\n",
       "            }, ms)\r\n",
       "            promise.then(resolve, reject)\r\n",
       "        })\r\n",
       "    }\r\n",
       "\r\n",
       "    if (Array.isArray(probingAddresses)) {\r\n",
       "        for (let i = 0; i < probingAddresses.length; i++) {\r\n",
       "\r\n",
       "            let rootUrl = probingAddresses[i];\r\n",
       "\r\n",
       "            if (!rootUrl.endsWith('/')) {\r\n",
       "                rootUrl = `${rootUrl}/`;\r\n",
       "            }\r\n",
       "\r\n",
       "            try {\r\n",
       "                let response = await timeout(1000, fetch(`${rootUrl}discovery`, {\r\n",
       "                    method: 'POST',\r\n",
       "                    cache: 'no-cache',\r\n",
       "                    mode: 'cors',\r\n",
       "                    timeout: 1000,\r\n",
       "                    headers: {\r\n",
       "                        'Content-Type': 'text/plain'\r\n",
       "                    },\r\n",
       "                    body: probingAddresses[i]\r\n",
       "                }));\r\n",
       "\r\n",
       "                if (response.status == 200) {\r\n",
       "                    return rootUrl;\r\n",
       "                }\r\n",
       "            }\r\n",
       "            catch (e) { }\r\n",
       "        }\r\n",
       "    }\r\n",
       "}\r\n",
       "\r\n",
       "function loadDotnetInteractiveApi() {\r\n",
       "    probeAddresses([\"http://172.17.58.241:1005/\", \"http://192.168.137.1:1005/\", \"http://192.168.86.99:1005/\", \"http://100.122.159.221:1005/\", \"http://127.0.0.1:1005/\"])\r\n",
       "        .then((root) => {\r\n",
       "        // use probing to find host url and api resources\r\n",
       "        // load interactive helpers and language services\r\n",
       "        let dotnetInteractiveRequire = require.config({\r\n",
       "        context: '22176.Microsoft.DotNet.Interactive.Http.HttpPort',\r\n",
       "                paths:\r\n",
       "            {\r\n",
       "                'dotnet-interactive': `${root}resources`\r\n",
       "                }\r\n",
       "        }) || require;\r\n",
       "\r\n",
       "            window.dotnetInteractiveRequire = dotnetInteractiveRequire;\r\n",
       "\r\n",
       "            window.configureRequireFromExtension = function(extensionName, extensionCacheBuster) {\r\n",
       "                let paths = {};\r\n",
       "                paths[extensionName] = `${root}extensions/${extensionName}/resources/`;\r\n",
       "                \r\n",
       "                let internalRequire = require.config({\r\n",
       "                    context: extensionCacheBuster,\r\n",
       "                    paths: paths,\r\n",
       "                    urlArgs: `cacheBuster=${extensionCacheBuster}`\r\n",
       "                    }) || require;\r\n",
       "\r\n",
       "                return internalRequire\r\n",
       "            };\r\n",
       "        \r\n",
       "            dotnetInteractiveRequire([\r\n",
       "                    'dotnet-interactive/dotnet-interactive'\r\n",
       "                ],\r\n",
       "                function (dotnet) {\r\n",
       "                    dotnet.init(window);\r\n",
       "                },\r\n",
       "                function (error) {\r\n",
       "                    console.log(error);\r\n",
       "                }\r\n",
       "            );\r\n",
       "        })\r\n",
       "        .catch(error => {console.log(error);});\r\n",
       "    }\r\n",
       "\r\n",
       "// ensure `require` is available globally\r\n",
       "if ((typeof(require) !==  typeof(Function)) || (typeof(require.config) !== typeof(Function))) {\r\n",
       "    let require_script = document.createElement('script');\r\n",
       "    require_script.setAttribute('src', 'https://cdnjs.cloudflare.com/ajax/libs/require.js/2.3.6/require.min.js');\r\n",
       "    require_script.setAttribute('type', 'text/javascript');\r\n",
       "    \r\n",
       "    \r\n",
       "    require_script.onload = function() {\r\n",
       "        loadDotnetInteractiveApi();\r\n",
       "    };\r\n",
       "\r\n",
       "    document.getElementsByTagName('head')[0].appendChild(require_script);\r\n",
       "}\r\n",
       "else {\r\n",
       "    loadDotnetInteractiveApi();\r\n",
       "}\r\n",
       "\r\n",
       "    </script>\r\n",
       "</div>"
      ]
     },
     "metadata": {},
     "output_type": "display_data"
    }
   ],
   "source": [
    "let input = File.ReadAllLines @\"input/02.txt\""
   ]
  },
  {
   "cell_type": "code",
   "execution_count": 2,
   "id": "a12c00d1-1299-4d08-8cc9-fe432e407a95",
   "metadata": {
    "dotnet_interactive": {
     "language": "fsharp"
    }
   },
   "outputs": [],
   "source": [
    "type Box = \n",
    "    { l: int\n",
    "      w: int\n",
    "      h: int }"
   ]
  },
  {
   "cell_type": "code",
   "execution_count": 3,
   "id": "87e3531a-249b-4ffe-9b3e-d9d7075c677a",
   "metadata": {
    "dotnet_interactive": {
     "language": "fsharp"
    }
   },
   "outputs": [],
   "source": [
    "let surfaceAreaOf (b: Box) = 2*b.l*b.w + 2*b.w*b.h + 2*b.h*b.l"
   ]
  },
  {
   "cell_type": "code",
   "execution_count": 4,
   "id": "60104bb3-b073-441c-b361-b699a1c0a916",
   "metadata": {
    "dotnet_interactive": {
     "language": "fsharp"
    }
   },
   "outputs": [],
   "source": [
    "let slackFor (b: Box) = seq {b.l*b.w; b.w*b.h; b.h*b.l} |> Seq.min"
   ]
  },
  {
   "cell_type": "code",
   "execution_count": 5,
   "id": "56679610-e04f-4bad-9aa7-4b0342c71e52",
   "metadata": {
    "dotnet_interactive": {
     "language": "fsharp"
    }
   },
   "outputs": [],
   "source": [
    "let measureWrappingPaper (b: Box) = surfaceAreaOf b + slackFor b"
   ]
  },
  {
   "cell_type": "code",
   "execution_count": 6,
   "id": "d82c0987-86c8-4ee1-a66b-7c9ec4bb8c0d",
   "metadata": {
    "dotnet_interactive": {
     "language": "fsharp"
    }
   },
   "outputs": [],
   "source": [
    "let createBox (line: string) = \n",
    "    let arr = line.Split 'x'\n",
    "    { l = int arr.[0]\n",
    "      w = int arr.[1]\n",
    "      h = int arr.[2] }"
   ]
  },
  {
   "cell_type": "code",
   "execution_count": 7,
   "id": "577dc7b5-245a-45b0-b67d-1cd17b43ddba",
   "metadata": {
    "dotnet_interactive": {
     "language": "fsharp"
    }
   },
   "outputs": [
    {
     "data": {
      "text/html": [
       "<div class=\"dni-plaintext\">1606483</div>"
      ]
     },
     "execution_count": 7,
     "metadata": {},
     "output_type": "execute_result"
    }
   ],
   "source": [
    "input\n",
    "|> Seq.map createBox\n",
    "|> Seq.map measureWrappingPaper \n",
    "|> Seq.sum"
   ]
  },
  {
   "cell_type": "markdown",
   "id": "a298e7e5-1cc8-4ed3-970d-5e9e4eed806c",
   "metadata": {},
   "source": [
    "<h2 id=\"part2\">--- Part Two ---</h2>"
   ]
  },
  {
   "cell_type": "markdown",
   "id": "1441bc07-b9cc-454f-8ece-fd730e1e616b",
   "metadata": {},
   "source": [
    "<p>The elves are also running low on ribbon.  Ribbon is all the same width, so they only have to worry about the length they need to order, which they would again like to be exact.</p>\n",
    "<p>The ribbon required to wrap a present is the shortest distance around its sides, or the smallest perimeter of any one face.  Each present also requires a bow made out of ribbon as well; the feet of ribbon required for the perfect bow is equal to the cubic feet of volume of the present.  Don't ask how they tie the bow, though; they'll never tell.</p>\n",
    "<p>For example:</p>\n",
    "<ul>\n",
    "<li>A present with dimensions <code>2x3x4</code> requires <code>2+2+3+3 = 10</code> feet of ribbon to wrap the present plus <code>2*3*4 = 24</code> feet of ribbon for the bow, for a total of <code>34</code> feet.</li>\n",
    "<li>A present with dimensions <code>1x1x10</code> requires <code>1+1+1+1 = 4</code> feet of ribbon to wrap the present plus <code>1*1*10 = 10</code> feet of ribbon for the bow, for a total of <code>14</code> feet.</li>\n",
    "</ul>\n",
    "<p>How many total <em>feet of ribbon</em> should they order?</p>"
   ]
  },
  {
   "cell_type": "code",
   "execution_count": 8,
   "id": "4eda2e83-ee98-4ea2-8381-4d95d6399f48",
   "metadata": {
    "dotnet_interactive": {
     "language": "fsharp"
    }
   },
   "outputs": [],
   "source": [
    "let ribbonFor (b: Box) = \n",
    "    let sorted = [| b.l; b.w; b.h |] |> Array.sort\n",
    "    sorted.[0]*2 + sorted.[1]*2"
   ]
  },
  {
   "cell_type": "code",
   "execution_count": 9,
   "id": "bec6bd33-f5c5-4cff-be7e-bb6defdb54b6",
   "metadata": {
    "dotnet_interactive": {
     "language": "fsharp"
    }
   },
   "outputs": [],
   "source": [
    "let volumeOf (b: Box) = b.l*b.w*b.h"
   ]
  },
  {
   "cell_type": "code",
   "execution_count": 10,
   "id": "1d2d44c0-eddb-4c4e-8b38-b3b809dea435",
   "metadata": {
    "dotnet_interactive": {
     "language": "fsharp"
    }
   },
   "outputs": [],
   "source": [
    "let measureRibbon (b: Box) = ribbonFor b + volumeOf b"
   ]
  },
  {
   "cell_type": "code",
   "execution_count": 11,
   "id": "88547c88-f0cc-4b54-925d-504d08b7fd93",
   "metadata": {
    "dotnet_interactive": {
     "language": "fsharp"
    }
   },
   "outputs": [
    {
     "data": {
      "text/html": [
       "<div class=\"dni-plaintext\">3842356</div>"
      ]
     },
     "execution_count": 11,
     "metadata": {},
     "output_type": "execute_result"
    }
   ],
   "source": [
    "input\n",
    "|> Seq.map createBox \n",
    "|> Seq.map measureRibbon \n",
    "|> Seq.sum"
   ]
  },
  {
   "cell_type": "markdown",
   "id": "ba63760f-040f-445d-a70a-da3e1a457b75",
   "metadata": {},
   "source": [
    "[Prev](Day01.ipynb) | [Next](Day03.ipynb)"
   ]
  }
 ],
 "metadata": {
  "kernelspec": {
   "display_name": ".NET (F#)",
   "language": "F#",
   "name": ".net-fsharp"
  },
  "language_info": {
   "file_extension": ".fs",
   "mimetype": "text/x-fsharp",
   "name": "C#",
   "pygments_lexer": "fsharp",
   "version": "4.5"
  }
 },
 "nbformat": 4,
 "nbformat_minor": 5
}
