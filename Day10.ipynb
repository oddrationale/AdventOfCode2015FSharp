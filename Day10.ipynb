{
 "cells": [
  {
   "cell_type": "markdown",
   "metadata": {
    "dotnet_interactive": {
     "language": "fsharp"
    }
   },
   "source": [
    "<h2>--- Day 10: Elves Look, Elves Say ---</h2>"
   ]
  },
  {
   "cell_type": "markdown",
   "id": "46054780-5054-46c2-b16c-95de326151ae",
   "metadata": {},
   "source": [
    "[![Binder](https://mybinder.org/badge_logo.svg)](https://mybinder.org/v2/gh/oddrationale/AdventOfCode2015FSharp/master?urlpath=lab%2Ftree%2FDay10.ipynb)"
   ]
  },
  {
   "cell_type": "markdown",
   "metadata": {
    "dotnet_interactive": {
     "language": "fsharp"
    }
   },
   "source": [
    "<p>Today, the Elves are playing a game called <a href=\"https://en.wikipedia.org/wiki/Look-and-say_sequence\">look-and-say</a>.  They take turns making sequences by reading aloud the previous sequence and using that reading as the next sequence.  For example, <code>211</code> is read as \"one two, two ones\", which becomes <code>1221</code> (<code>1</code> <code>2</code>, <code>2</code> <code>1</code>s).</p>\n",
    "<p>Look-and-say sequences are generated iteratively, using the previous value as input for the next step.  For each step, take the previous value, and replace each run of digits (like <code>111</code>) with the number of digits (<code>3</code>) followed by the digit itself (<code>1</code>).</p>\n",
    "<p>For example:</p>\n",
    "<ul>\n",
    "<li><code>1</code> becomes <code>11</code> (<code>1</code> copy of digit <code>1</code>).</li>\n",
    "<li><code>11</code> becomes <code>21</code> (<code>2</code> copies of digit <code>1</code>).</li>\n",
    "<li><code>21</code> becomes <code>1211</code> (one <code>2</code> followed by one <code>1</code>).</li>\n",
    "<li><code>1211</code> becomes <code>111221</code> (one <code>1</code>, one <code>2</code>, and two <code>1</code>s).</li>\n",
    "<li><code>111221</code> becomes <code>312211</code> (three <code>1</code>s, two <code>2</code>s, and one <code>1</code>).</li>\n",
    "</ul>\n",
    "<p>Starting with the digits in your puzzle input, apply this process 40 times.  What is <em>the length of the result</em>?</p>"
   ]
  },
  {
   "cell_type": "code",
   "execution_count": null,
   "id": "de56a3ee-fcca-41f8-bd23-22cec760ee60",
   "metadata": {
    "dotnet_interactive": {
     "language": "fsharp"
    },
    "tags": []
   },
   "outputs": [],
   "source": [
    "let input = File.ReadAllText @\"input/10.txt\""
   ]
  },
  {
   "cell_type": "code",
   "execution_count": null,
   "metadata": {
    "dotnet_interactive": {
     "language": "fsharp"
    }
   },
   "outputs": [],
   "source": [
    "let say (input: string) = \n",
    "    let mutable counter = 1\n",
    "    let sb = new StringBuilder()\n",
    "    \n",
    "    for i = 0 to input.Length - 1 do\n",
    "        if i = input.Length - 1 then\n",
    "            sb.Append $\"{counter}{input.[i]}\" |> ignore\n",
    "        elif input.[i] = input.[i + 1] then\n",
    "            counter <- counter + 1\n",
    "        else\n",
    "            sb.Append $\"{counter}{input.[i]}\" |> ignore\n",
    "            counter <- 1\n",
    "\n",
    "    sb.ToString()"
   ]
  },
  {
   "cell_type": "code",
   "execution_count": null,
   "metadata": {
    "dotnet_interactive": {
     "language": "fsharp"
    }
   },
   "outputs": [],
   "source": [
    "let rec saySeq (input: string) = \n",
    "    seq {\n",
    "        yield input\n",
    "        yield! input |> say |> saySeq\n",
    "    }"
   ]
  },
  {
   "cell_type": "code",
   "execution_count": null,
   "metadata": {
    "dotnet_interactive": {
     "language": "fsharp"
    }
   },
   "outputs": [
    {
     "data": {
      "text/html": [
       "<div class=\"dni-plaintext\">492982</div>"
      ]
     },
     "metadata": {},
     "output_type": "display_data"
    }
   ],
   "source": [
    "input \n",
    "|> saySeq \n",
    "|> Seq.item 40 \n",
    "|> Seq.length"
   ]
  },
  {
   "cell_type": "markdown",
   "id": "8add84cb-6b57-4b61-aeac-95d05d1909c6",
   "metadata": {},
   "source": [
    "<h2 id=\"part2\">--- Part Two ---</h2>"
   ]
  },
  {
   "cell_type": "markdown",
   "metadata": {
    "dotnet_interactive": {
     "language": "fsharp"
    }
   },
   "source": [
    "<p>Neat, right? You might also enjoy hearing <a href=\"https://www.youtube.com/watch?v=ea7lJkEhytA\">John Conway talking about this sequence</a> (that's Conway of <em>Conway's Game of Life</em> fame).</p>\n",
    "<p>Now, starting again with the digits in your puzzle input, apply this process <em title=\"Only because any longer started taking alarmingly long on my test hardware, and I wanted to avoid excluding people.\">50</em> times.  What is <em>the length of the new result</em>?</p>"
   ]
  },
  {
   "cell_type": "code",
   "execution_count": null,
   "metadata": {
    "dotnet_interactive": {
     "language": "fsharp"
    }
   },
   "outputs": [
    {
     "data": {
      "text/html": [
       "<div class=\"dni-plaintext\">6989950</div>"
      ]
     },
     "metadata": {},
     "output_type": "display_data"
    }
   ],
   "source": [
    "input \n",
    "|> saySeq \n",
    "|> Seq.item 50 \n",
    "|> Seq.length"
   ]
  },
  {
   "cell_type": "markdown",
   "id": "7f8bb89c-38a9-4458-97f2-5f32fb425373",
   "metadata": {},
   "source": [
    "[Prev](Day09.ipynb) | [Next](Day11.ipynb)"
   ]
  }
 ],
 "metadata": {
  "kernelspec": {
   "display_name": ".NET (F#)",
   "language": "F#",
   "name": ".net-fsharp"
  },
  "language_info": {
   "name": "F#"
  }
 },
 "nbformat": 4,
 "nbformat_minor": 2
}
