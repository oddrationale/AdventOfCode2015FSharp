{
 "cells": [
  {
   "cell_type": "markdown",
   "id": "1d1e3173-1b52-45a7-b82b-ad295bc4efa1",
   "metadata": {
    "tags": []
   },
   "source": [
    "<h2>--- Day 9: All in a Single Night ---</h2>"
   ]
  },
  {
   "cell_type": "markdown",
   "id": "46054780-5054-46c2-b16c-95de326151ae",
   "metadata": {},
   "source": [
    "[![Binder](https://mybinder.org/badge_logo.svg)](https://mybinder.org/v2/gh/oddrationale/AdventOfCode2015FSharp/master?urlpath=lab%2Ftree%2FDay09.ipynb)"
   ]
  },
  {
   "cell_type": "markdown",
   "id": "69f9e653-75e5-4da7-8617-1b33be60c7ba",
   "metadata": {},
   "source": [
    "<p>Every year, Santa manages to deliver all of his presents in a single night.</p>\n",
    "<p>This year, however, he has some <span title=\"Bonus points if you recognize all of the locations.\">new locations</span> to visit; his elves have provided him the distances between every pair of locations.  He can start and end at any two (different) locations he wants, but he must visit each location exactly once.  What is the <em>shortest distance</em> he can travel to achieve this?</p>\n",
    "<p>For example, given the following distances:</p>\n",
    "<pre><code>London to Dublin = 464\n",
    "London to Belfast = 518\n",
    "Dublin to Belfast = 141\n",
    "</code></pre>\n",
    "<p>The possible routes are therefore:</p>\n",
    "<pre><code>Dublin -> London -> Belfast = 982\n",
    "London -> Dublin -> Belfast = 605\n",
    "London -> Belfast -> Dublin = 659\n",
    "Dublin -> Belfast -> London = 659\n",
    "Belfast -> Dublin -> London = 605\n",
    "Belfast -> London -> Dublin = 982\n",
    "</code></pre>\n",
    "<p>The shortest of these is <code>London -> Dublin -> Belfast = 605</code>, and so the answer is <code>605</code> in this example.</p>\n",
    "<p>What is the distance of the shortest route?</p>"
   ]
  },
  {
   "cell_type": "code",
   "execution_count": null,
   "id": "7b5f4ca7",
   "metadata": {},
   "outputs": [],
   "source": [
    "open System.Collections.Generic"
   ]
  },
  {
   "cell_type": "code",
   "execution_count": null,
   "id": "de56a3ee-fcca-41f8-bd23-22cec760ee60",
   "metadata": {
    "dotnet_interactive": {
     "language": "fsharp"
    },
    "tags": []
   },
   "outputs": [],
   "source": [
    "let input = File.ReadAllLines @\"input/09.txt\""
   ]
  },
  {
   "cell_type": "code",
   "execution_count": null,
   "id": "77ec2485-4383-4fc1-8a52-4fd0cbb0dacc",
   "metadata": {
    "dotnet_interactive": {
     "language": "fsharp"
    }
   },
   "outputs": [],
   "source": [
    "let createAdjacencyMatrix (input: string[]) = \n",
    "    let parseLine (line: string) = \n",
    "        let split1 = line.Split(\" = \")\n",
    "        let split2 = split1.[0].Split(\" \")\n",
    "        {| From = split2[0]; To = split2[2]; Distance = split1[1] |> int |}\n",
    "       \n",
    "    let distances = \n",
    "        input \n",
    "        |> Array.map parseLine\n",
    "    \n",
    "    let allDistances = \n",
    "        distances\n",
    "        |> Array.map (fun d -> {| From = d.To; To = d.From; Distance = d.Distance |})\n",
    "        |> Array.append distances\n",
    "    \n",
    "    let locations = \n",
    "        allDistances\n",
    "        |> Array.map (fun d -> d.From)\n",
    "        |> Array.distinct\n",
    "    \n",
    "    let findDistance f t =\n",
    "        if f = t then\n",
    "            0\n",
    "        else\n",
    "            (allDistances |> Array.find (fun d -> d.From = f && d.To = t)).Distance\n",
    "    \n",
    "    dict [for f in locations -> f, dict [for t in locations -> t, findDistance f t]]"
   ]
  },
  {
   "cell_type": "code",
   "execution_count": null,
   "id": "3b658fc5-c4ed-4248-b845-70d2589cd4a5",
   "metadata": {
    "dotnet_interactive": {
     "language": "fsharp"
    }
   },
   "outputs": [],
   "source": [
    "let graph = createAdjacencyMatrix input"
   ]
  },
  {
   "cell_type": "markdown",
   "id": "dd2b41bc",
   "metadata": {},
   "source": [
    "Got the `permute` function [from StackOverflow](https://stackoverflow.com/a/3129136)."
   ]
  },
  {
   "cell_type": "code",
   "execution_count": null,
   "id": "562f30d7-0f28-4714-95f5-5055a96730be",
   "metadata": {
    "dotnet_interactive": {
     "language": "fsharp"
    }
   },
   "outputs": [],
   "source": [
    "let rec distribute e = function\n",
    "  | [] -> [[e]]\n",
    "  | x::xs' as xs -> (e::xs)::[for xs in distribute e xs' -> x::xs]\n",
    "\n",
    "let rec permute = function\n",
    "  | [] -> [[]]\n",
    "  | e::xs -> List.collect (distribute e) (permute xs)"
   ]
  },
  {
   "cell_type": "code",
   "execution_count": null,
   "id": "e9613eaa",
   "metadata": {},
   "outputs": [],
   "source": [
    "let calculateDistance (graph: IDictionary<string,IDictionary<string,int>>) (route: seq<string>) = \n",
    "    route\n",
    "    |> Seq.windowed 2\n",
    "    |> Seq.map (fun pair -> graph.[pair.[0]].[pair.[1]])\n",
    "    |> Seq.sum"
   ]
  },
  {
   "cell_type": "code",
   "execution_count": null,
   "id": "051d14be-cfa4-45d7-afd4-dc9c24abd501",
   "metadata": {
    "dotnet_interactive": {
     "language": "fsharp"
    }
   },
   "outputs": [
    {
     "data": {
      "text/html": [
       "<div class=\"dni-plaintext\">207</div>"
      ]
     },
     "metadata": {},
     "output_type": "display_data"
    }
   ],
   "source": [
    "graph.Keys\n",
    "|> List.ofSeq\n",
    "|> permute\n",
    "|> Seq.map (fun route -> calculateDistance graph route)\n",
    "|> Seq.min"
   ]
  },
  {
   "cell_type": "markdown",
   "id": "8add84cb-6b57-4b61-aeac-95d05d1909c6",
   "metadata": {},
   "source": [
    "<h2 id=\"part2\">--- Part Two ---</h2>"
   ]
  },
  {
   "cell_type": "markdown",
   "id": "755f1a14",
   "metadata": {},
   "source": [
    "<p>The next year, just to show off, Santa decides to take the route with the <em>longest distance</em> instead.</p>\n",
    "<p>He can still start and end at any two (different) locations he wants, and he still must visit each location exactly once.</p>\n",
    "<p>For example, given the distances above, the longest route would be <code>982</code> via (for example) <code>Dublin -> London -> Belfast</code>.</p>\n",
    "<p>What is the distance of the longest route?</p>"
   ]
  },
  {
   "cell_type": "code",
   "execution_count": null,
   "id": "d2fb4392",
   "metadata": {},
   "outputs": [
    {
     "data": {
      "text/html": [
       "<div class=\"dni-plaintext\">804</div>"
      ]
     },
     "metadata": {},
     "output_type": "display_data"
    }
   ],
   "source": [
    "graph.Keys\n",
    "|> List.ofSeq\n",
    "|> permute\n",
    "|> Seq.map (fun route -> calculateDistance graph route)\n",
    "|> Seq.max"
   ]
  },
  {
   "cell_type": "markdown",
   "id": "7f8bb89c-38a9-4458-97f2-5f32fb425373",
   "metadata": {},
   "source": [
    "[Prev](Day08.ipynb) | [Next](Day10.ipynb)"
   ]
  }
 ],
 "metadata": {
  "kernelspec": {
   "display_name": ".NET (F#)",
   "language": "F#",
   "name": ".net-fsharp"
  },
  "language_info": {
   "file_extension": ".fs",
   "mimetype": "text/x-fsharp",
   "name": "F#",
   "pygments_lexer": "fsharp",
   "version": "5.0"
  }
 },
 "nbformat": 4,
 "nbformat_minor": 5
}
