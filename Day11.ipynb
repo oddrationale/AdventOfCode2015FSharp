{
 "cells": [
  {
   "cell_type": "markdown",
   "metadata": {
    "dotnet_interactive": {
     "language": "fsharp"
    }
   },
   "source": [
    "<h2>--- Day 11: Corporate Policy ---</h2>"
   ]
  },
  {
   "cell_type": "markdown",
   "id": "46054780-5054-46c2-b16c-95de326151ae",
   "metadata": {},
   "source": [
    "[![Binder](https://mybinder.org/badge_logo.svg)](https://mybinder.org/v2/gh/oddrationale/AdventOfCode2015FSharp/master?urlpath=lab%2Ftree%2FDay11.ipynb)"
   ]
  },
  {
   "cell_type": "markdown",
   "metadata": {
    "dotnet_interactive": {
     "language": "fsharp"
    }
   },
   "source": [
    "<p>Santa's previous password expired, and he needs help choosing a new one.</p>\n",
    "<p>To help him remember his new password after the old one expires, Santa has devised a method of coming up with a password based on the previous one.  Corporate policy dictates that passwords must be exactly eight lowercase letters (for security reasons), so he finds his new password by <em>incrementing</em> his old password string repeatedly until it is valid.</p>\n",
    "<p>Incrementing is just like counting with numbers: <code>xx</code>, <code>xy</code>, <code>xz</code>, <code>ya</code>, <code>yb</code>, and so on. Increase the rightmost letter one step; if it was <code>z</code>, it wraps around to <code>a</code>, and repeat with the next letter to the left until one doesn't wrap around.</p>\n",
    "<p>Unfortunately for Santa, a new Security-Elf recently started, and he has imposed some additional password requirements:</p>\n",
    "<ul>\n",
    "<li>Passwords must include one increasing straight of at least three letters, like <code>abc</code>, <code>bcd</code>, <code>cde</code>, and so on, up to <code>xyz</code>. They cannot skip letters; <code>abd</code> doesn't count.</li>\n",
    "<li>Passwords may not contain the letters <code>i</code>, <code>o</code>, or <code>l</code>, as these letters can be mistaken for other characters and are therefore confusing.</li>\n",
    "<li>Passwords must contain at least two different, non-overlapping pairs of letters, like <code>aa</code>, <code>bb</code>, or <code>zz</code>.</li>\n",
    "</ul>\n",
    "<p>For example:</p>\n",
    "<ul>\n",
    "<li><code>hijklmmn</code> meets the first requirement (because it contains the straight <code>hij</code>) but fails the second requirement requirement (because it contains <code>i</code> and <code>l</code>).</li>\n",
    "<li><code>abbceffg</code> meets the third requirement (because it repeats <code>bb</code> and <code>ff</code>) but fails the first requirement.</li>\n",
    "<li><code>abbcegjk</code> fails the third requirement, because it only has one double letter (<code>bb</code>).</li>\n",
    "<li>The next password after <code>abcdefgh</code> is <code>abcdffaa</code>.</li>\n",
    "<li>The next password after <code>ghijklmn</code> is <code>ghjaabcc</code>, because you eventually skip all the passwords that start with <code>ghi...</code>, since <code>i</code> is not allowed.</li>\n",
    "</ul>\n",
    "<p>Given Santa's current password (your puzzle input), what should his <em>next password</em> be?</p>"
   ]
  },
  {
   "cell_type": "code",
   "execution_count": null,
   "id": "de56a3ee-fcca-41f8-bd23-22cec760ee60",
   "metadata": {
    "dotnet_interactive": {
     "language": "fsharp"
    },
    "tags": []
   },
   "outputs": [],
   "source": [
    "let input = File.ReadAllText @\"input/11.txt\""
   ]
  },
  {
   "cell_type": "code",
   "execution_count": null,
   "metadata": {
    "dotnet_interactive": {
     "language": "fsharp"
    }
   },
   "outputs": [],
   "source": [
    "let incrementChar (c: char) = \n",
    "    match int c with\n",
    "    | i when i = 122 -> 'a'\n",
    "    | i when i >= 97 && i < 122 -> i |> (+) 1 |> Convert.ToChar    \n",
    "    | _ -> invalidArg $\"{c}\" \"invalid character\""
   ]
  },
  {
   "cell_type": "code",
   "execution_count": null,
   "metadata": {
    "dotnet_interactive": {
     "language": "fsharp"
    }
   },
   "outputs": [],
   "source": [
    "let rec incrementString (s: string) = \n",
    "    let lastChar = s.[s.Length - 1]\n",
    "    let allButLastChar = s.[..s.Length - 2]\n",
    "    match s with\n",
    "    | \"\" -> \"\"\n",
    "    | s when lastChar = 'z' -> (incrementString allButLastChar) + \"a\"\n",
    "    | _ -> allButLastChar + (lastChar |> incrementChar |> string)"
   ]
  },
  {
   "cell_type": "code",
   "execution_count": null,
   "metadata": {
    "dotnet_interactive": {
     "language": "fsharp"
    }
   },
   "outputs": [],
   "source": [
    "let requirementOne (s: string) = \n",
    "    s\n",
    "    |> Seq.windowed 3\n",
    "    |> Seq.map (fun letters -> (letters.[0] |> int |> (+) 1) = (letters.[1] |> int)\n",
    "                            && (letters.[1] |> int |> (+) 1) = (letters.[2] |> int))\n",
    "    |> Seq.contains true"
   ]
  },
  {
   "cell_type": "code",
   "execution_count": null,
   "metadata": {
    "dotnet_interactive": {
     "language": "fsharp"
    }
   },
   "outputs": [],
   "source": [
    "let requirementTwo (s: string) = \n",
    "    not (s.Contains \"i\")\n",
    "    && not (s.Contains \"o\")\n",
    "    && not (s.Contains \"l\")"
   ]
  },
  {
   "cell_type": "markdown",
   "metadata": {
    "dotnet_interactive": {
     "language": "fsharp"
    }
   },
   "source": [
    "Tried using the regular expression `.*(.)\\1+.*(.)\\2+.*` but the pairs have to be *different* pairs. E.g., `aaaa` would return `true` but should be `false`."
   ]
  },
  {
   "cell_type": "code",
   "execution_count": null,
   "metadata": {
    "dotnet_interactive": {
     "language": "fsharp"
    }
   },
   "outputs": [],
   "source": [
    "let requirementThree (s: string) = \n",
    "    s\n",
    "    |> Seq.windowed 2\n",
    "    |> Seq.filter (fun pair -> pair.[0] = pair.[1])\n",
    "    |> Seq.distinct\n",
    "    |> Seq.length > 1"
   ]
  },
  {
   "cell_type": "code",
   "execution_count": null,
   "metadata": {
    "dotnet_interactive": {
     "language": "fsharp"
    }
   },
   "outputs": [],
   "source": [
    "let rec passwordSeq (s: string) = \n",
    "    seq {\n",
    "        yield s\n",
    "        yield! s |> incrementString |> passwordSeq\n",
    "    }"
   ]
  },
  {
   "cell_type": "code",
   "execution_count": null,
   "metadata": {
    "dotnet_interactive": {
     "language": "fsharp"
    }
   },
   "outputs": [
    {
     "data": {
      "text/plain": [
       "vzbxxyzz"
      ]
     },
     "metadata": {},
     "output_type": "display_data"
    }
   ],
   "source": [
    "input \n",
    "|> passwordSeq \n",
    "|> Seq.filter (fun p -> requirementOne p && requirementTwo p && requirementThree p)\n",
    "|> Seq.head"
   ]
  },
  {
   "cell_type": "markdown",
   "id": "8add84cb-6b57-4b61-aeac-95d05d1909c6",
   "metadata": {},
   "source": [
    "<h2 id=\"part2\">--- Part Two ---</h2>"
   ]
  },
  {
   "cell_type": "markdown",
   "metadata": {
    "dotnet_interactive": {
     "language": "fsharp"
    }
   },
   "source": [
    "<p>Santa's password <span title=\"The corporate policy says your password expires after 12 seconds.  For security.\">expired again</span>.  What's the next one?</p>"
   ]
  },
  {
   "cell_type": "code",
   "execution_count": null,
   "metadata": {
    "dotnet_interactive": {
     "language": "fsharp"
    }
   },
   "outputs": [
    {
     "data": {
      "text/plain": [
       "vzcaabcc"
      ]
     },
     "metadata": {},
     "output_type": "display_data"
    }
   ],
   "source": [
    "input \n",
    "|> passwordSeq \n",
    "|> Seq.filter (fun p -> requirementOne p && requirementTwo p && requirementThree p)\n",
    "|> Seq.skip 1\n",
    "|> Seq.head"
   ]
  },
  {
   "cell_type": "markdown",
   "metadata": {
    "dotnet_interactive": {
     "language": "fsharp"
    }
   },
   "source": [
    "Could potentially use caching (`Seq.cache`) to improve performance."
   ]
  },
  {
   "cell_type": "markdown",
   "id": "7f8bb89c-38a9-4458-97f2-5f32fb425373",
   "metadata": {},
   "source": [
    "[Prev](Day10.ipynb) | [Next](Day12.ipynb)"
   ]
  }
 ],
 "metadata": {
  "kernelspec": {
   "display_name": ".NET (F#)",
   "language": "F#",
   "name": ".net-fsharp"
  },
  "language_info": {
   "name": "F#"
  }
 },
 "nbformat": 4,
 "nbformat_minor": 2
}
