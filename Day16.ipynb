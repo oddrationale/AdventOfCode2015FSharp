{
 "cells": [
  {
   "cell_type": "markdown",
   "metadata": {
    "dotnet_interactive": {
     "language": "fsharp"
    }
   },
   "source": [
    "<h2>--- Day 16: Aunt Sue ---</h2>"
   ]
  },
  {
   "cell_type": "markdown",
   "id": "46054780-5054-46c2-b16c-95de326151ae",
   "metadata": {},
   "source": [
    "[![Binder](https://mybinder.org/badge_logo.svg)](https://mybinder.org/v2/gh/oddrationale/AdventOfCode2015FSharp/master?urlpath=lab%2Ftree%2FDay16.ipynb)"
   ]
  },
  {
   "cell_type": "markdown",
   "metadata": {
    "dotnet_interactive": {
     "language": "fsharp"
    }
   },
   "source": [
    "<p>Your Aunt Sue has given you a wonderful gift, and you'd like to send her a thank you card.  However, there's a small problem: she signed it \"From, Aunt Sue\".</p>\n",
    "<p>You have 500 Aunts named \"Sue\".</p>\n",
    "<p>So, to avoid sending the card to the wrong person, you need to figure out which Aunt Sue (which you conveniently number 1 to 500, for sanity) gave you the gift.  You open the present and, as luck would have it, good ol' Aunt Sue got you a My First Crime Scene Analysis Machine!  Just what you wanted.  Or needed, as the case may be.</p>\n",
    "<p>The My First Crime Scene Analysis Machine (MFCSAM for short) can detect a few specific compounds in a given sample, as well as how many distinct kinds of those compounds there are. According to the instructions, these are what the MFCSAM can detect:</p>\n",
    "<ul>\n",
    "<li><code>children</code>, by human DNA age analysis.</li>\n",
    "<li><code>cats</code>.  It doesn't differentiate individual breeds.</li>\n",
    "<li>Several <span title=\"It can tell them apart by their distinct Dog Residue.\">seemingly random breeds of dog</span>: <code><a href=\"https://en.wikipedia.org/wiki/Samoyed_%28dog%29\">samoyeds</a></code>, <code><a href=\"https://en.wikipedia.org/wiki/Pomeranian_%28dog%29\">pomeranians</a></code>, <code><a href=\"https://en.wikipedia.org/wiki/Akita_%28dog%29\">akitas</a></code>, and <code><a href=\"https://en.wikipedia.org/wiki/Vizsla\">vizslas</a></code>.</li>\n",
    "<li><code>goldfish</code>.  No other kinds of fish.</li>\n",
    "<li><code>trees</code>, all in one group.</li>\n",
    "<li><code>cars</code>, presumably by exhaust or gasoline or something.</li>\n",
    "<li><code>perfumes</code>, which is handy, since many of your Aunts Sue wear a few kinds.</li>\n",
    "</ul>\n",
    "<p>In fact, many of your Aunts Sue have many of these.  You put the wrapping from the gift into the MFCSAM.  It beeps inquisitively at you a few times and then prints out a message on <a href=\"https://en.wikipedia.org/wiki/Ticker_tape\">ticker tape</a>:</p>\n",
    "<pre><code>children: 3\n",
    "cats: 7\n",
    "samoyeds: 2\n",
    "pomeranians: 3\n",
    "akitas: 0\n",
    "vizslas: 0\n",
    "goldfish: 5\n",
    "trees: 3\n",
    "cars: 2\n",
    "perfumes: 1\n",
    "</code></pre>\n",
    "<p>You make a list of the things you can remember about each Aunt Sue.  Things missing from your list aren't zero - you simply don't remember the value.</p>\n",
    "<p>What is the <em>number</em> of the Sue that got you the gift?</p>"
   ]
  },
  {
   "cell_type": "code",
   "execution_count": null,
   "metadata": {
    "dotnet_interactive": {
     "language": "fsharp"
    }
   },
   "outputs": [],
   "source": [
    "open System.Text.RegularExpressions"
   ]
  },
  {
   "cell_type": "code",
   "execution_count": null,
   "id": "de56a3ee-fcca-41f8-bd23-22cec760ee60",
   "metadata": {
    "dotnet_interactive": {
     "language": "fsharp"
    },
    "tags": []
   },
   "outputs": [],
   "source": [
    "let input = File.ReadAllLines @\"input/16.txt\""
   ]
  },
  {
   "cell_type": "code",
   "execution_count": null,
   "metadata": {
    "dotnet_interactive": {
     "language": "fsharp"
    }
   },
   "outputs": [],
   "source": [
    "type AuntSue = {\n",
    "    Number: int\n",
    "    Children : int option\n",
    "    Cats: int option\n",
    "    Samoyeds: int option\n",
    "    Pomeranians: int option\n",
    "    Akitas: int option\n",
    "    Vizslas: int option\n",
    "    Goldfish: int option\n",
    "    Trees: int option\n",
    "    Cars: int option\n",
    "    Perfumes: int option\n",
    "}"
   ]
  },
  {
   "cell_type": "code",
   "execution_count": null,
   "metadata": {
    "dotnet_interactive": {
     "language": "fsharp"
    }
   },
   "outputs": [],
   "source": [
    "let auntSue = {\n",
    "    Number = 0\n",
    "    Children = Some 3\n",
    "    Cats = Some 7\n",
    "    Samoyeds = Some 2\n",
    "    Pomeranians = Some 3\n",
    "    Akitas = Some 0\n",
    "    Vizslas = Some 0\n",
    "    Goldfish = Some 5\n",
    "    Trees = Some 3\n",
    "    Cars = Some 2\n",
    "    Perfumes = Some 1\n",
    "}"
   ]
  },
  {
   "cell_type": "code",
   "execution_count": null,
   "metadata": {
    "dotnet_interactive": {
     "language": "fsharp"
    }
   },
   "outputs": [],
   "source": [
    "let parse (line: string) =\n",
    "    let pattern = @\"^Sue\\s(\\d+):\\s((\\w+):\\s(\\d+),?\\s?)+$\"\n",
    "    let re = Regex.Match(line, pattern)\n",
    "    let number = re.Groups.[1].Value |> int\n",
    "    let compounds = \n",
    "        seq { for c in re.Groups.[4].Captures -> int c.Value }\n",
    "        |> Seq.zip (seq { for c in re.Groups.[3].Captures -> c.Value })\n",
    "    let detect compound = \n",
    "        let c = compounds |> Seq.filter (fun (c, _) -> c = compound)\n",
    "        match c with\n",
    "        | c when Seq.isEmpty c -> None\n",
    "        | _ -> Some (c |> Seq.head |> snd)\n",
    "    {\n",
    "        Number = number\n",
    "        Children = detect \"children\"\n",
    "        Cats = detect \"cats\"\n",
    "        Samoyeds = detect \"samoyeds\"\n",
    "        Pomeranians = detect \"pomeranians\"\n",
    "        Akitas = detect \"akitas\"\n",
    "        Vizslas = detect \"vizslas\"\n",
    "        Goldfish = detect \"goldfish\"\n",
    "        Trees = detect \"trees\"\n",
    "        Cars = detect \"cars\"\n",
    "        Perfumes = detect \"perfumes\"\n",
    "    }"
   ]
  },
  {
   "cell_type": "code",
   "execution_count": null,
   "metadata": {
    "dotnet_interactive": {
     "language": "fsharp"
    }
   },
   "outputs": [],
   "source": [
    "let compare aunt aunt' =\n",
    "    if aunt.Children.IsNone || aunt'.Children.IsNone then true else aunt.Children = aunt'.Children\n",
    "    && if aunt.Cats.IsNone || aunt'.Cats.IsNone then true else aunt.Cats = aunt'.Cats\n",
    "    && if aunt.Samoyeds.IsNone || aunt'.Samoyeds.IsNone then true else aunt.Samoyeds = aunt'.Samoyeds\n",
    "    && if aunt.Pomeranians.IsNone || aunt'.Pomeranians.IsNone then true else aunt.Pomeranians = aunt'.Pomeranians\n",
    "    && if aunt.Akitas.IsNone || aunt'.Akitas.IsNone then true else aunt.Akitas = aunt'.Akitas\n",
    "    && if aunt.Vizslas.IsNone || aunt'.Vizslas.IsNone then true else aunt.Vizslas = aunt'.Vizslas\n",
    "    && if aunt.Goldfish.IsNone || aunt'.Goldfish.IsNone then true else aunt.Goldfish = aunt'.Goldfish\n",
    "    && if aunt.Trees.IsNone || aunt'.Trees.IsNone then true else aunt.Trees = aunt'.Trees\n",
    "    && if aunt.Cars.IsNone || aunt'.Cars.IsNone then true else aunt.Cars = aunt'.Cars\n",
    "    && if aunt.Perfumes.IsNone || aunt'.Perfumes.IsNone then true else aunt.Perfumes = aunt'.Perfumes"
   ]
  },
  {
   "cell_type": "code",
   "execution_count": null,
   "metadata": {
    "dotnet_interactive": {
     "language": "fsharp"
    }
   },
   "outputs": [
    {
     "data": {
      "text/html": [
       "<div class=\"dni-plaintext\">213</div>"
      ]
     },
     "metadata": {},
     "output_type": "display_data"
    },
    {
     "data": {
      "text/plain": [
       "Wall time: 9.1266ms"
      ]
     },
     "metadata": {},
     "output_type": "display_data"
    }
   ],
   "source": [
    "#!time\n",
    "input\n",
    "|> Seq.map parse\n",
    "|> Seq.filter (fun aunt -> compare aunt auntSue)\n",
    "|> Seq.head\n",
    "|> fun aunt -> aunt.Number\n"
   ]
  },
  {
   "cell_type": "markdown",
   "id": "8add84cb-6b57-4b61-aeac-95d05d1909c6",
   "metadata": {},
   "source": [
    "<h2 id=\"part2\">--- Part Two ---</h2>"
   ]
  },
  {
   "cell_type": "markdown",
   "metadata": {
    "dotnet_interactive": {
     "language": "fsharp"
    }
   },
   "source": [
    "<p>As you're about to send the thank you note, something in the MFCSAM's instructions catches your eye.  Apparently, it has an outdated <a href=\"https://www.youtube.com/watch?v=RXJKdh1KZ0w\">retroencabulator</a>, and so the output from the machine isn't exact values - some of them indicate ranges.</p>\n",
    "<p>In particular, the <code>cats</code> and <code>trees</code> readings indicates that there are <em>greater than</em> that many (due to the unpredictable nuclear decay of cat dander and tree pollen), while the <code>pomeranians</code> and <code>goldfish</code> readings indicate that there are <em>fewer than</em> that many (due to the modial interaction of magnetoreluctance).</p>\n",
    "<p>What is the <em>number</em> of the real Aunt Sue?</p>"
   ]
  },
  {
   "cell_type": "code",
   "execution_count": null,
   "metadata": {
    "dotnet_interactive": {
     "language": "fsharp"
    }
   },
   "outputs": [],
   "source": [
    "let compare' aunt aunt' =\n",
    "    if aunt.Children.IsNone || aunt'.Children.IsNone then true else aunt.Children = aunt'.Children\n",
    "    && if aunt.Cats.IsNone || aunt'.Cats.IsNone then true else aunt.Cats > aunt'.Cats\n",
    "    && if aunt.Samoyeds.IsNone || aunt'.Samoyeds.IsNone then true else aunt.Samoyeds = aunt'.Samoyeds\n",
    "    && if aunt.Pomeranians.IsNone || aunt'.Pomeranians.IsNone then true else aunt.Pomeranians < aunt'.Pomeranians\n",
    "    && if aunt.Akitas.IsNone || aunt'.Akitas.IsNone then true else aunt.Akitas = aunt'.Akitas\n",
    "    && if aunt.Vizslas.IsNone || aunt'.Vizslas.IsNone then true else aunt.Vizslas = aunt'.Vizslas\n",
    "    && if aunt.Goldfish.IsNone || aunt'.Goldfish.IsNone then true else aunt.Goldfish < aunt'.Goldfish\n",
    "    && if aunt.Trees.IsNone || aunt'.Trees.IsNone then true else aunt.Trees > aunt'.Trees\n",
    "    && if aunt.Cars.IsNone || aunt'.Cars.IsNone then true else aunt.Cars = aunt'.Cars\n",
    "    && if aunt.Perfumes.IsNone || aunt'.Perfumes.IsNone then true else aunt.Perfumes = aunt'.Perfumes"
   ]
  },
  {
   "cell_type": "code",
   "execution_count": null,
   "metadata": {
    "dotnet_interactive": {
     "language": "fsharp"
    }
   },
   "outputs": [
    {
     "data": {
      "text/html": [
       "<div class=\"dni-plaintext\">323</div>"
      ]
     },
     "metadata": {},
     "output_type": "display_data"
    },
    {
     "data": {
      "text/plain": [
       "Wall time: 11.9364ms"
      ]
     },
     "metadata": {},
     "output_type": "display_data"
    }
   ],
   "source": [
    "#!time\n",
    "input\n",
    "|> Seq.map parse\n",
    "|> Seq.filter (fun aunt -> compare' aunt auntSue)\n",
    "|> Seq.head\n",
    "|> fun aunt -> aunt.Number\n"
   ]
  },
  {
   "cell_type": "markdown",
   "id": "7f8bb89c-38a9-4458-97f2-5f32fb425373",
   "metadata": {},
   "source": [
    "[Prev](Day15.ipynb) | [Next](Day17.ipynb)"
   ]
  }
 ],
 "metadata": {
  "kernelspec": {
   "display_name": ".NET (F#)",
   "language": "F#",
   "name": ".net-fsharp"
  },
  "language_info": {
   "name": "F#"
  }
 },
 "nbformat": 4,
 "nbformat_minor": 2
}
