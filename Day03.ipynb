{
 "cells": [
  {
   "cell_type": "markdown",
   "id": "c78ea27d-9319-4792-80bb-f1487af83190",
   "metadata": {},
   "source": [
    "<h2>--- Day 3: Perfectly Spherical Houses in a Vacuum ---</h2>"
   ]
  },
  {
   "cell_type": "markdown",
   "id": "5e28c91a-900c-4244-898f-2cacbf436f9e",
   "metadata": {},
   "source": [
    "[![Binder](https://mybinder.org/badge_logo.svg)](https://mybinder.org/v2/gh/oddrationale/AdventOfCode2015FSharp/master?urlpath=lab%2Ftree%2FDay03.ipynb)"
   ]
  },
  {
   "cell_type": "markdown",
   "id": "ac74d61a-8aab-4720-87f7-48031e8f71ec",
   "metadata": {},
   "source": [
    "<p>Santa is delivering presents to an infinite two-dimensional grid of houses.</p>\n",
    "<p>He begins by delivering a present to the house at his starting location, and then an elf at the North Pole calls him via radio and tells him where to move next.  Moves are always exactly one house to the north (<code>^</code>), south (<code>v</code>), east (<code>&gt;</code>), or west (<code>&lt;</code>).  After each move, he delivers another present to the house at his new location.</p>\n",
    "<p>However, the elf back at the north pole has had a little too much eggnog, and so his directions are a little off, and Santa ends up visiting some houses more than once.  How many houses receive <em>at least one present</em>?</p>\n",
    "<p>For example:</p>\n",
    "<ul>\n",
    "<li><code>&gt;</code> delivers presents to <code>2</code> houses: one at the starting location, and one to the east.</li>\n",
    "<li><code>^&gt;v&lt;</code> delivers presents to <code>4</code> houses in a square, including twice to the house at his starting/ending location.</li>\n",
    "<li><code>^v^v^v^v^v</code> delivers a bunch of presents to some very lucky children at only <code>2</code> houses.</li>\n",
    "</ul>"
   ]
  },
  {
   "cell_type": "code",
   "execution_count": null,
   "id": "b9c58330-ac1e-4b95-9f1d-a811603918fc",
   "metadata": {
    "dotnet_interactive": {
     "language": "fsharp"
    }
   },
   "outputs": [],
   "source": [
    "let input = File.ReadAllText @\"input/03.txt\""
   ]
  },
  {
   "cell_type": "code",
   "execution_count": null,
   "id": "9d448bff-98ad-4a81-89de-4dc6bc6d2452",
   "metadata": {
    "dotnet_interactive": {
     "language": "fsharp"
    }
   },
   "outputs": [],
   "source": [
    "type House = { x: int; y: int }\n",
    "type Direction = { x: int; y: int }"
   ]
  },
  {
   "cell_type": "code",
   "execution_count": null,
   "id": "1c7ba330-e2cc-426f-ad93-40dbca94f292",
   "metadata": {
    "dotnet_interactive": {
     "language": "fsharp"
    }
   },
   "outputs": [],
   "source": [
    "let readDirection (c: char) = \n",
    "    match c with\n",
    "    | '^' -> { x = 1; y = 0 }\n",
    "    | '>' -> { x = 0; y = 1 }\n",
    "    | '<' -> { x = 0; y = -1 }\n",
    "    | 'v' -> { x = -1; y = 0 }\n",
    "    | _ -> { x = 0; y = 0 }"
   ]
  },
  {
   "cell_type": "code",
   "execution_count": null,
   "id": "ca4a6418-7f18-4f40-854c-9d72b2d5ebb3",
   "metadata": {
    "dotnet_interactive": {
     "language": "fsharp"
    }
   },
   "outputs": [],
   "source": [
    "let move house d = \n",
    "    { x = house.x + d.x\n",
    "      y = house.y + d.y }"
   ]
  },
  {
   "cell_type": "code",
   "execution_count": null,
   "id": "6c6da9af-b0c3-43c5-ad44-42ca5ca884cd",
   "metadata": {
    "dotnet_interactive": {
     "language": "fsharp"
    }
   },
   "outputs": [
    {
     "data": {
      "text/html": [
       "<div class=\"dni-plaintext\">2565</div>"
      ]
     },
     "metadata": {},
     "output_type": "display_data"
    }
   ],
   "source": [
    "input \n",
    "|> Seq.map readDirection\n",
    "|> Seq.scan move { x = 0; y = 0 }\n",
    "|> Seq.distinct\n",
    "|> Seq.length"
   ]
  },
  {
   "cell_type": "markdown",
   "id": "5348bbb1-1939-42c7-87ab-923d0c99e336",
   "metadata": {},
   "source": [
    "<h2 id=\"part2\">--- Part Two ---</h2>"
   ]
  },
  {
   "cell_type": "markdown",
   "id": "6f49c00f-83d9-4481-840f-1f5a6945fd60",
   "metadata": {},
   "source": [
    "<p>The next year, to speed up the process, Santa creates a robot version of himself, <em>Robo-Santa</em>, to deliver presents with him.</p>\n",
    "<p>Santa and Robo-Santa start at the same location (delivering two presents to the same starting house), then take turns moving based on instructions from the elf, who is <span title=\"This absolutely real word was invented by someone flipping eggnoggedly through a dictionary.\">eggnoggedly</span> reading from the same script as the previous year.</p>\n",
    "<p>This year, how many houses receive <em>at least one present</em>?</p>\n",
    "<p>For example:</p>\n",
    "<ul>\n",
    "<li><code>^v</code> delivers presents to <code>3</code> houses, because Santa goes north, and then Robo-Santa goes south.</li>\n",
    "<li><code>^&gt;v&lt;</code> now delivers presents to <code>3</code> houses, and Santa and Robo-Santa end up back where they started.</li>\n",
    "<li><code>^v^v^v^v^v</code> now delivers presents to <code>11</code> houses, with Santa going one direction and Robo-Santa going the other.</li>\n",
    "</ul>"
   ]
  },
  {
   "cell_type": "code",
   "execution_count": null,
   "id": "9bb4f1f2-cb6c-4fba-8f72-8e5589d8c823",
   "metadata": {
    "dotnet_interactive": {
     "language": "fsharp"
    }
   },
   "outputs": [],
   "source": [
    "let evens (s: seq<'T>) = \n",
    "    s \n",
    "    |> Seq.indexed \n",
    "    |> Seq.filter (fun t -> fst t % 2 = 0) // get the even indexes\n",
    "    |> Seq.map (fun t -> snd t)"
   ]
  },
  {
   "cell_type": "code",
   "execution_count": null,
   "id": "2cec93ef-277b-49b0-bcd6-11a97df250ba",
   "metadata": {
    "dotnet_interactive": {
     "language": "fsharp"
    }
   },
   "outputs": [],
   "source": [
    "let odds (s: seq<'T>) = \n",
    "    s \n",
    "    |> Seq.indexed \n",
    "    |> Seq.filter (fun t -> fst t % 2 <> 0) // get the even indexes\n",
    "    |> Seq.map (fun t -> snd t)"
   ]
  },
  {
   "cell_type": "markdown",
   "id": "68e47794-9d42-4b78-9eda-a85da68b3f9f",
   "metadata": {},
   "source": [
    "Find all the houses Santa visits."
   ]
  },
  {
   "cell_type": "code",
   "execution_count": null,
   "id": "fab77817-396a-44de-8ab7-22e08d24cc7f",
   "metadata": {
    "dotnet_interactive": {
     "language": "fsharp"
    }
   },
   "outputs": [],
   "source": [
    "let santaHouses = \n",
    "    input \n",
    "    |> evens \n",
    "    |> Seq.map readDirection\n",
    "    |> Seq.scan move { x = 0; y = 0 }"
   ]
  },
  {
   "cell_type": "markdown",
   "id": "f8495a36-24dd-46f9-b090-fbf64248f07b",
   "metadata": {},
   "source": [
    "Find all the houses Robo-Santa visits."
   ]
  },
  {
   "cell_type": "code",
   "execution_count": null,
   "id": "f7580099-041c-4378-8cba-416890da8000",
   "metadata": {
    "dotnet_interactive": {
     "language": "fsharp"
    }
   },
   "outputs": [],
   "source": [
    "let roboSantaHouses =\n",
    "    input \n",
    "    |> odds \n",
    "    |> Seq.map readDirection\n",
    "    |> Seq.scan move { x = 0; y = 0 }"
   ]
  },
  {
   "cell_type": "markdown",
   "id": "c03297b9-4e07-4a3c-a913-e8511fef7e80",
   "metadata": {},
   "source": [
    "Append them together, remove duplicates, and count."
   ]
  },
  {
   "cell_type": "code",
   "execution_count": null,
   "id": "4fbdbc8c-b8ee-40d9-a15a-7f1315134474",
   "metadata": {
    "dotnet_interactive": {
     "language": "fsharp"
    }
   },
   "outputs": [
    {
     "data": {
      "text/html": [
       "<div class=\"dni-plaintext\">2639</div>"
      ]
     },
     "metadata": {},
     "output_type": "display_data"
    }
   ],
   "source": [
    "santaHouses \n",
    "|> Seq.append roboSantaHouses\n",
    "|> Seq.distinct\n",
    "|> Seq.length"
   ]
  },
  {
   "cell_type": "markdown",
   "id": "218b6ee3-7449-4b04-9dba-94a61f509995",
   "metadata": {},
   "source": [
    "[Prev](Day02.ipynb) | [Next](Day04.ipynb)"
   ]
  }
 ],
 "metadata": {
  "kernelspec": {
   "display_name": ".NET (F#)",
   "language": "F#",
   "name": ".net-fsharp"
  },
  "language_info": {
   "file_extension": ".fs",
   "mimetype": "text/x-fsharp",
   "name": "C#",
   "pygments_lexer": "fsharp",
   "version": "4.5"
  }
 },
 "nbformat": 4,
 "nbformat_minor": 5
}
