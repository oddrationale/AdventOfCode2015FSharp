{
 "cells": [
  {
   "cell_type": "markdown",
   "id": "c78ea27d-9319-4792-80bb-f1487af83190",
   "metadata": {},
   "source": [
    "# --- Day 3: Perfectly Spherical Houses in a Vacuum ---"
   ]
  },
  {
   "cell_type": "markdown",
   "id": "5e28c91a-900c-4244-898f-2cacbf436f9e",
   "metadata": {},
   "source": [
    "[![Binder](https://mybinder.org/badge_logo.svg)](https://mybinder.org/v2/gh/oddrationale/AdventOfCode2015FSharp/master?urlpath=lab%2Ftree%2FDay03.ipynb)"
   ]
  },
  {
   "cell_type": "code",
   "execution_count": 1,
   "id": "b9c58330-ac1e-4b95-9f1d-a811603918fc",
   "metadata": {
    "dotnet_interactive": {
     "language": "fsharp"
    }
   },
   "outputs": [
    {
     "data": {
      "text/html": [
       "\r\n",
       "<div>\r\n",
       "    <div id='dotnet-interactive-this-cell-24644.Microsoft.DotNet.Interactive.Http.HttpPort' style='display: none'>\r\n",
       "        The below script needs to be able to find the current output cell; this is an easy method to get it.\r\n",
       "    </div>\r\n",
       "    <script type='text/javascript'>\r\n",
       "async function probeAddresses(probingAddresses) {\r\n",
       "    function timeout(ms, promise) {\r\n",
       "        return new Promise(function (resolve, reject) {\r\n",
       "            setTimeout(function () {\r\n",
       "                reject(new Error('timeout'))\r\n",
       "            }, ms)\r\n",
       "            promise.then(resolve, reject)\r\n",
       "        })\r\n",
       "    }\r\n",
       "\r\n",
       "    if (Array.isArray(probingAddresses)) {\r\n",
       "        for (let i = 0; i < probingAddresses.length; i++) {\r\n",
       "\r\n",
       "            let rootUrl = probingAddresses[i];\r\n",
       "\r\n",
       "            if (!rootUrl.endsWith('/')) {\r\n",
       "                rootUrl = `${rootUrl}/`;\r\n",
       "            }\r\n",
       "\r\n",
       "            try {\r\n",
       "                let response = await timeout(1000, fetch(`${rootUrl}discovery`, {\r\n",
       "                    method: 'POST',\r\n",
       "                    cache: 'no-cache',\r\n",
       "                    mode: 'cors',\r\n",
       "                    timeout: 1000,\r\n",
       "                    headers: {\r\n",
       "                        'Content-Type': 'text/plain'\r\n",
       "                    },\r\n",
       "                    body: probingAddresses[i]\r\n",
       "                }));\r\n",
       "\r\n",
       "                if (response.status == 200) {\r\n",
       "                    return rootUrl;\r\n",
       "                }\r\n",
       "            }\r\n",
       "            catch (e) { }\r\n",
       "        }\r\n",
       "    }\r\n",
       "}\r\n",
       "\r\n",
       "function loadDotnetInteractiveApi() {\r\n",
       "    probeAddresses([\"http://172.17.58.241:1000/\", \"http://192.168.137.1:1000/\", \"http://192.168.86.99:1000/\", \"http://100.122.152.200:1000/\", \"http://127.0.0.1:1000/\"])\r\n",
       "        .then((root) => {\r\n",
       "        // use probing to find host url and api resources\r\n",
       "        // load interactive helpers and language services\r\n",
       "        let dotnetInteractiveRequire = require.config({\r\n",
       "        context: '24644.Microsoft.DotNet.Interactive.Http.HttpPort',\r\n",
       "                paths:\r\n",
       "            {\r\n",
       "                'dotnet-interactive': `${root}resources`\r\n",
       "                }\r\n",
       "        }) || require;\r\n",
       "\r\n",
       "            window.dotnetInteractiveRequire = dotnetInteractiveRequire;\r\n",
       "\r\n",
       "            window.configureRequireFromExtension = function(extensionName, extensionCacheBuster) {\r\n",
       "                let paths = {};\r\n",
       "                paths[extensionName] = `${root}extensions/${extensionName}/resources/`;\r\n",
       "                \r\n",
       "                let internalRequire = require.config({\r\n",
       "                    context: extensionCacheBuster,\r\n",
       "                    paths: paths,\r\n",
       "                    urlArgs: `cacheBuster=${extensionCacheBuster}`\r\n",
       "                    }) || require;\r\n",
       "\r\n",
       "                return internalRequire\r\n",
       "            };\r\n",
       "        \r\n",
       "            dotnetInteractiveRequire([\r\n",
       "                    'dotnet-interactive/dotnet-interactive'\r\n",
       "                ],\r\n",
       "                function (dotnet) {\r\n",
       "                    dotnet.init(window);\r\n",
       "                },\r\n",
       "                function (error) {\r\n",
       "                    console.log(error);\r\n",
       "                }\r\n",
       "            );\r\n",
       "        })\r\n",
       "        .catch(error => {console.log(error);});\r\n",
       "    }\r\n",
       "\r\n",
       "// ensure `require` is available globally\r\n",
       "if ((typeof(require) !==  typeof(Function)) || (typeof(require.config) !== typeof(Function))) {\r\n",
       "    let require_script = document.createElement('script');\r\n",
       "    require_script.setAttribute('src', 'https://cdnjs.cloudflare.com/ajax/libs/require.js/2.3.6/require.min.js');\r\n",
       "    require_script.setAttribute('type', 'text/javascript');\r\n",
       "    \r\n",
       "    \r\n",
       "    require_script.onload = function() {\r\n",
       "        loadDotnetInteractiveApi();\r\n",
       "    };\r\n",
       "\r\n",
       "    document.getElementsByTagName('head')[0].appendChild(require_script);\r\n",
       "}\r\n",
       "else {\r\n",
       "    loadDotnetInteractiveApi();\r\n",
       "}\r\n",
       "\r\n",
       "    </script>\r\n",
       "</div>"
      ]
     },
     "metadata": {},
     "output_type": "display_data"
    }
   ],
   "source": [
    "let input = File.ReadAllText @\"input/03.txt\""
   ]
  },
  {
   "cell_type": "code",
   "execution_count": 2,
   "id": "9d448bff-98ad-4a81-89de-4dc6bc6d2452",
   "metadata": {
    "dotnet_interactive": {
     "language": "fsharp"
    }
   },
   "outputs": [],
   "source": [
    "type House = { x : int; y : int }\n",
    "type Direction = { x : int; y : int }"
   ]
  },
  {
   "cell_type": "code",
   "execution_count": 3,
   "id": "1c7ba330-e2cc-426f-ad93-40dbca94f292",
   "metadata": {
    "dotnet_interactive": {
     "language": "fsharp"
    }
   },
   "outputs": [],
   "source": [
    "let readDirection (c : char) = \n",
    "    match c with\n",
    "    | '^' -> { x = 1; y = 0 }\n",
    "    | '>' -> { x = 0; y = 1 }\n",
    "    | '<' -> { x = 0; y = -1 }\n",
    "    | 'v' -> { x = -1; y = 0 }\n",
    "    | _ -> { x = 0; y = 0 }"
   ]
  },
  {
   "cell_type": "code",
   "execution_count": 4,
   "id": "ca4a6418-7f18-4f40-854c-9d72b2d5ebb3",
   "metadata": {
    "dotnet_interactive": {
     "language": "fsharp"
    }
   },
   "outputs": [],
   "source": [
    "let move house d = \n",
    "    { x = house.x + d.x\n",
    "      y = house.y + d.y }"
   ]
  },
  {
   "cell_type": "code",
   "execution_count": 5,
   "id": "6c6da9af-b0c3-43c5-ad44-42ca5ca884cd",
   "metadata": {
    "dotnet_interactive": {
     "language": "fsharp"
    }
   },
   "outputs": [
    {
     "data": {
      "text/html": [
       "<div class=\"dni-plaintext\">2565</div>"
      ]
     },
     "execution_count": 5,
     "metadata": {},
     "output_type": "execute_result"
    }
   ],
   "source": [
    "input \n",
    "|> Seq.map readDirection\n",
    "|> Seq.scan move { x = 0; y = 0 }\n",
    "|> Seq.distinct\n",
    "|> Seq.length"
   ]
  },
  {
   "cell_type": "markdown",
   "id": "5348bbb1-1939-42c7-87ab-923d0c99e336",
   "metadata": {},
   "source": [
    "# --- Part Two ---"
   ]
  },
  {
   "cell_type": "code",
   "execution_count": 6,
   "id": "9bb4f1f2-cb6c-4fba-8f72-8e5589d8c823",
   "metadata": {},
   "outputs": [],
   "source": [
    "let evens (s : seq<'T>) = \n",
    "    s \n",
    "    |> Seq.indexed \n",
    "    |> Seq.filter (fun t -> fst t % 2 = 0) // get the even indexes\n",
    "    |> Seq.map (fun t -> snd t)"
   ]
  },
  {
   "cell_type": "code",
   "execution_count": 7,
   "id": "2cec93ef-277b-49b0-bcd6-11a97df250ba",
   "metadata": {},
   "outputs": [],
   "source": [
    "let odds (s : seq<'T>) = \n",
    "    s \n",
    "    |> Seq.indexed \n",
    "    |> Seq.filter (fun t -> fst t % 2 <> 0) // get the even indexes\n",
    "    |> Seq.map (fun t -> snd t)"
   ]
  },
  {
   "cell_type": "code",
   "execution_count": 8,
   "id": "fab77817-396a-44de-8ab7-22e08d24cc7f",
   "metadata": {
    "dotnet_interactive": {
     "language": "fsharp"
    }
   },
   "outputs": [],
   "source": [
    "let santaHouses = \n",
    "    input \n",
    "    |> evens \n",
    "    |> Seq.map readDirection\n",
    "    |> Seq.scan move { x = 0; y = 0 }"
   ]
  },
  {
   "cell_type": "code",
   "execution_count": 9,
   "id": "f7580099-041c-4378-8cba-416890da8000",
   "metadata": {
    "dotnet_interactive": {
     "language": "fsharp"
    }
   },
   "outputs": [],
   "source": [
    "let roboSantaHouses =\n",
    "    input \n",
    "    |> odds \n",
    "    |> Seq.map readDirection\n",
    "    |> Seq.scan move { x = 0; y = 0 }"
   ]
  },
  {
   "cell_type": "code",
   "execution_count": 10,
   "id": "4fbdbc8c-b8ee-40d9-a15a-7f1315134474",
   "metadata": {
    "dotnet_interactive": {
     "language": "fsharp"
    }
   },
   "outputs": [
    {
     "data": {
      "text/html": [
       "<div class=\"dni-plaintext\">2639</div>"
      ]
     },
     "execution_count": 10,
     "metadata": {},
     "output_type": "execute_result"
    }
   ],
   "source": [
    "santaHouses \n",
    "|> Seq.append roboSantaHouses\n",
    "|> Seq.distinct\n",
    "|> Seq.length"
   ]
  },
  {
   "cell_type": "markdown",
   "id": "218b6ee3-7449-4b04-9dba-94a61f509995",
   "metadata": {},
   "source": [
    "[Prev](Day02.ipynb) | [Next](Day04.ipynb)"
   ]
  }
 ],
 "metadata": {
  "kernelspec": {
   "display_name": ".NET (F#)",
   "language": "F#",
   "name": ".net-fsharp"
  },
  "language_info": {
   "file_extension": ".fs",
   "mimetype": "text/x-fsharp",
   "name": "C#",
   "pygments_lexer": "fsharp",
   "version": "4.5"
  }
 },
 "nbformat": 4,
 "nbformat_minor": 5
}
