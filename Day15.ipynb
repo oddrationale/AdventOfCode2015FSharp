{
 "cells": [
  {
   "cell_type": "markdown",
   "metadata": {
    "dotnet_interactive": {
     "language": "fsharp"
    }
   },
   "source": [
    "<h2>--- Day 15: Science for Hungry People ---</h2>"
   ]
  },
  {
   "cell_type": "markdown",
   "id": "46054780-5054-46c2-b16c-95de326151ae",
   "metadata": {},
   "source": [
    "[![Binder](https://mybinder.org/badge_logo.svg)](https://mybinder.org/v2/gh/oddrationale/AdventOfCode2015FSharp/master?urlpath=lab%2Ftree%2FDay15.ipynb)"
   ]
  },
  {
   "cell_type": "markdown",
   "metadata": {
    "dotnet_interactive": {
     "language": "fsharp"
    }
   },
   "source": [
    "<p>Today, you set out on the task of perfecting your milk-dunking cookie recipe.  All you have to do is find the right balance of ingredients.</p>\n",
    "<p>Your recipe leaves room for exactly <code>100</code> teaspoons of ingredients.  You make a list of the <em>remaining ingredients you could use to finish the recipe</em> (your puzzle input) and their <em>properties per teaspoon</em>:</p>\n",
    "<ul>\n",
    "<li><code>capacity</code> (how well it helps the cookie absorb milk)</li>\n",
    "<li><code>durability</code> (how well it keeps the cookie intact when full of milk)</li>\n",
    "<li><code>flavor</code> (how tasty it makes the cookie)</li>\n",
    "<li><code>texture</code> (how it improves the feel of the cookie)</li>\n",
    "<li><code>calories</code> (how many calories it adds to the cookie)</li>\n",
    "</ul>\n",
    "<p>You can only measure ingredients in whole-teaspoon amounts accurately, and you have to be accurate so you can reproduce your results in the future.  The <em>total score</em> of a cookie can be found by adding up each of the properties (negative totals become <code>0</code>) and then multiplying together everything except calories.</p>\n",
    "<p>For instance, suppose you have <span title=\"* I know what your preference is, but...\">these two ingredients</span>:</p>\n",
    "<pre><code>Butterscotch: capacity -1, durability -2, flavor 6, texture 3, calories 8\n",
    "Cinnamon: capacity 2, durability 3, flavor -2, texture -1, calories 3\n",
    "</code></pre>\n",
    "<p>Then, choosing to use <code>44</code> teaspoons of butterscotch and <code>56</code> teaspoons of cinnamon (because the amounts of each ingredient must add up to <code>100</code>) would result in a cookie with the following properties:</p>\n",
    "<ul>\n",
    "<li>A <code>capacity</code> of <code>44*-1 + 56*2 = 68</code></li>\n",
    "<li>A <code>durability</code> of <code>44*-2 + 56*3 = 80</code></li>\n",
    "<li>A <code>flavor</code> of <code>44*6 + 56*-2 = 152</code></li>\n",
    "<li>A <code>texture</code> of <code>44*3 + 56*-1 = 76</code></li>\n",
    "</ul>\n",
    "<p>Multiplying these together (<code>68 * 80 * 152 * 76</code>, ignoring <code>calories</code> for now) results in a total score of  <code>62842880</code>, which happens to be the best score possible given these ingredients.  If any properties had produced a negative total, it would have instead become zero, causing the whole score to multiply to zero.</p>\n",
    "<p>Given the ingredients in your kitchen and their properties, what is the <em>total score</em> of the highest-scoring cookie you can make?</p>"
   ]
  },
  {
   "cell_type": "code",
   "execution_count": null,
   "id": "de56a3ee-fcca-41f8-bd23-22cec760ee60",
   "metadata": {
    "dotnet_interactive": {
     "language": "fsharp"
    },
    "tags": []
   },
   "outputs": [],
   "source": [
    "let input = File.ReadAllLines @\"input/15.txt\""
   ]
  },
  {
   "cell_type": "code",
   "execution_count": null,
   "metadata": {
    "dotnet_interactive": {
     "language": "fsharp"
    }
   },
   "outputs": [],
   "source": [
    "type Ingredient = {\n",
    "    Ingredient : string\n",
    "    Capacity   : int\n",
    "    Durability : int\n",
    "    Flavor     : int\n",
    "    Texture    : int\n",
    "    Calories   : int\n",
    "}"
   ]
  },
  {
   "cell_type": "code",
   "execution_count": null,
   "metadata": {
    "dotnet_interactive": {
     "language": "fsharp"
    }
   },
   "outputs": [],
   "source": [
    "let parse (line: string) = \n",
    "    let split1 = line.Split \": \"\n",
    "    let split2 = split1.[1].Split \", \"\n",
    "    {\n",
    "        Ingredient = split1.[0]\n",
    "        Capacity   = split2.[0].Split(\" \").[1] |> int\n",
    "        Durability = split2.[1].Split(\" \").[1] |> int\n",
    "        Flavor     = split2.[2].Split(\" \").[1] |> int\n",
    "        Texture    = split2.[3].Split(\" \").[1] |> int\n",
    "        Calories   = split2.[4].Split(\" \").[1] |> int\n",
    "    }"
   ]
  },
  {
   "cell_type": "code",
   "execution_count": null,
   "metadata": {
    "dotnet_interactive": {
     "language": "fsharp"
    }
   },
   "outputs": [
    {
     "data": {
      "text/html": [
       "<table><thead><tr><th><i>index</i></th><th>Ingredient</th><th>Capacity</th><th>Durability</th><th>Flavor</th><th>Texture</th><th>Calories</th></tr></thead><tbody><tr><td>0</td><td>Sprinkles</td><td><div class=\"dni-plaintext\">2</div></td><td><div class=\"dni-plaintext\">0</div></td><td><div class=\"dni-plaintext\">-2</div></td><td><div class=\"dni-plaintext\">0</div></td><td><div class=\"dni-plaintext\">3</div></td></tr><tr><td>1</td><td>Butterscotch</td><td><div class=\"dni-plaintext\">0</div></td><td><div class=\"dni-plaintext\">5</div></td><td><div class=\"dni-plaintext\">-3</div></td><td><div class=\"dni-plaintext\">0</div></td><td><div class=\"dni-plaintext\">3</div></td></tr><tr><td>2</td><td>Chocolate</td><td><div class=\"dni-plaintext\">0</div></td><td><div class=\"dni-plaintext\">0</div></td><td><div class=\"dni-plaintext\">5</div></td><td><div class=\"dni-plaintext\">-1</div></td><td><div class=\"dni-plaintext\">8</div></td></tr><tr><td>3</td><td>Candy</td><td><div class=\"dni-plaintext\">0</div></td><td><div class=\"dni-plaintext\">-1</div></td><td><div class=\"dni-plaintext\">0</div></td><td><div class=\"dni-plaintext\">5</div></td><td><div class=\"dni-plaintext\">8</div></td></tr></tbody></table>"
      ]
     },
     "metadata": {},
     "output_type": "display_data"
    }
   ],
   "source": [
    "let ingredients = \n",
    "    input\n",
    "    |> Array.map parse\n",
    "\n",
    "ingredients"
   ]
  },
  {
   "cell_type": "markdown",
   "metadata": {
    "dotnet_interactive": {
     "language": "fsharp"
    }
   },
   "source": [
    "Create a function that returns a sequence of lists that add up to a total. `n` is the number of ingredients."
   ]
  },
  {
   "cell_type": "code",
   "execution_count": null,
   "metadata": {
    "dotnet_interactive": {
     "language": "fsharp"
    }
   },
   "outputs": [],
   "source": [
    "let rec mixtures n total =\n",
    "    seq {\n",
    "        let start = \n",
    "            match n with\n",
    "            | 1 -> total\n",
    "            | _ -> 0\n",
    "\n",
    "        for i = start to total do\n",
    "            let left = total - i\n",
    "            if n - 1 <> 0 then\n",
    "                for y in (mixtures (n - 1) left) do\n",
    "                    yield [i] @ y\n",
    "            else\n",
    "                yield [i]\n",
    "    }"
   ]
  },
  {
   "cell_type": "code",
   "execution_count": null,
   "metadata": {
    "dotnet_interactive": {
     "language": "fsharp"
    }
   },
   "outputs": [],
   "source": [
    "let calcScore ingredients tsps = \n",
    "    let orZero i =\n",
    "        match i with\n",
    "        | i when i < 0 -> 0\n",
    "        | _ -> i\n",
    "\n",
    "    let (capacity, durability, flavor, texture) = \n",
    "        Seq.zip tsps ingredients\n",
    "        |> Seq.map (fun (tsp, ingredient) -> \n",
    "            tsp * ingredient.Capacity, \n",
    "            tsp * ingredient.Durability, \n",
    "            tsp * ingredient.Flavor, \n",
    "            tsp * ingredient.Texture)\n",
    "        |> Seq.fold (fun (c', d', f', t') (c, d, f, t) -> \n",
    "            c' + c, \n",
    "            d' + d, \n",
    "            f' + f, \n",
    "            t' + t) (0,0,0,0)\n",
    "            \n",
    "    (capacity |> orZero) * (durability |> orZero) * (flavor |> orZero) * (texture |> orZero)"
   ]
  },
  {
   "cell_type": "code",
   "execution_count": null,
   "metadata": {
    "dotnet_interactive": {
     "language": "fsharp"
    }
   },
   "outputs": [
    {
     "data": {
      "text/html": [
       "<div class=\"dni-plaintext\">21367368</div>"
      ]
     },
     "metadata": {},
     "output_type": "display_data"
    },
    {
     "data": {
      "text/plain": [
       "Wall time: 318.2019ms"
      ]
     },
     "metadata": {},
     "output_type": "display_data"
    }
   ],
   "source": [
    "#!time\n",
    "mixtures ingredients.Length 100\n",
    "|> Seq.map (fun i -> calcScore ingredients i)\n",
    "|> Seq.max"
   ]
  },
  {
   "cell_type": "markdown",
   "id": "8add84cb-6b57-4b61-aeac-95d05d1909c6",
   "metadata": {},
   "source": [
    "<h2 id=\"part2\">--- Part Two ---</h2>"
   ]
  },
  {
   "cell_type": "markdown",
   "metadata": {
    "dotnet_interactive": {
     "language": "fsharp"
    }
   },
   "source": [
    "<p>Your cookie recipe becomes wildly popular!  Someone asks if you can make another recipe that has exactly <code>500</code> calories per cookie (so they can use it as a meal replacement).  Keep the rest of your award-winning process the same (100 teaspoons, same ingredients, same scoring system).</p>\n",
    "<p>For example, given the ingredients above, if you had instead selected <code>40</code> teaspoons of butterscotch and <code>60</code> teaspoons of cinnamon (which still adds to <code>100</code>), the total calorie count would be <code>40*8 + 60*3 = 500</code>.  The total score would go down, though: only <code>57600000</code>, the best you can do in such trying circumstances.</p>\n",
    "<p>Given the ingredients in your kitchen and their properties, what is the <em>total score</em> of the highest-scoring cookie you can make with a calorie total of <code>500</code>?</p>"
   ]
  },
  {
   "cell_type": "code",
   "execution_count": null,
   "metadata": {
    "dotnet_interactive": {
     "language": "fsharp"
    }
   },
   "outputs": [],
   "source": [
    "let calcCalories ingredients tsps = \n",
    "    Seq.zip tsps ingredients\n",
    "    |> Seq.map (fun (tsp, ingredient) -> tsp * ingredient.Calories)\n",
    "    |> Seq.sum"
   ]
  },
  {
   "cell_type": "code",
   "execution_count": null,
   "metadata": {
    "dotnet_interactive": {
     "language": "fsharp"
    }
   },
   "outputs": [
    {
     "data": {
      "text/html": [
       "<div class=\"dni-plaintext\">1766400</div>"
      ]
     },
     "metadata": {},
     "output_type": "display_data"
    },
    {
     "data": {
      "text/plain": [
       "Wall time: 1513.4823ms"
      ]
     },
     "metadata": {},
     "output_type": "display_data"
    }
   ],
   "source": [
    "#!time\n",
    "mixtures ingredients.Length 100\n",
    "|> Seq.map (fun i -> (calcScore ingredients i, calcCalories ingredients i))\n",
    "|> Seq.filter (fun (_, calories) -> calories = 500)\n",
    "|> Seq.map (fun (score, _) -> score)\n",
    "|> Seq.max"
   ]
  },
  {
   "cell_type": "markdown",
   "id": "7f8bb89c-38a9-4458-97f2-5f32fb425373",
   "metadata": {},
   "source": [
    "[Prev](Day14.ipynb) | [Next](Day16.ipynb)"
   ]
  }
 ],
 "metadata": {
  "kernelspec": {
   "display_name": ".NET (F#)",
   "language": "F#",
   "name": ".net-fsharp"
  },
  "language_info": {
   "name": "F#"
  }
 },
 "nbformat": 4,
 "nbformat_minor": 2
}
