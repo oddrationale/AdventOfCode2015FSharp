{
 "cells": [
  {
   "cell_type": "markdown",
   "id": "6cb6dece-e68c-4051-a608-74132b4dbc57",
   "metadata": {
    "tags": []
   },
   "source": [
    "<h2>--- Day 6: Probably a Fire Hazard ---</h2>"
   ]
  },
  {
   "cell_type": "markdown",
   "id": "0bbc646d-16fc-4742-a729-628661133519",
   "metadata": {},
   "source": [
    "[![Binder](https://mybinder.org/badge_logo.svg)](https://mybinder.org/v2/gh/oddrationale/AdventOfCode2015FSharp/master?urlpath=lab%2Ftree%2FDay06.ipynb)"
   ]
  },
  {
   "cell_type": "markdown",
   "id": "27a1c8bb-4477-4f75-8e7a-cd32aa088f91",
   "metadata": {},
   "source": [
    "<p>Because your neighbors keep defeating you in the holiday house decorating contest year after year, you've decided to deploy one million lights in a <span title=\"Hey, be glad I'm not asking for the resistance between two points!\">1000x1000 grid</span>.</p>\n",
    "<p>Furthermore, because you've been especially nice this year, Santa has mailed you instructions on how to display the ideal lighting configuration.</p>\n",
    "<p>Lights in your grid are numbered from 0 to 999 in each direction; the lights at each corner are at <code>0,0</code>, <code>0,999</code>, <code>999,999</code>, and <code>999,0</code>. The instructions include whether to <code>turn on</code>, <code>turn off</code>, or <code>toggle</code> various inclusive ranges given as coordinate pairs.  Each coordinate pair represents opposite corners of a rectangle, inclusive; a coordinate pair like <code>0,0 through 2,2</code> therefore refers to 9 lights in a 3x3 square.  The lights all start turned off.</code>\n",
    "<p>To defeat your neighbors this year, all you have to do is set up your lights by doing the instructions Santa sent you in order.</p>\n",
    "<p>For example:</p>\n",
    "<ul>\n",
    "<li><code>turn on 0,0 through 999,999</code> would turn on (or leave on) every light.</li>\n",
    "<li><code>toggle 0,0 through 999,0</code> would toggle the first line of 1000 lights, turning off the ones that were on, and turning on the ones that were off.</li>\n",
    "<li><code>turn off 499,499 through 500,500</code> would turn off (or leave off) the middle four lights.</li>\n",
    "</ul>\n",
    "<p>After following the instructions, <em>how many lights are lit</em>?</p>"
   ]
  },
  {
   "cell_type": "code",
   "execution_count": 1,
   "id": "71c45951-592f-41be-98b1-e8ed2b329100",
   "metadata": {
    "dotnet_interactive": {
     "language": "fsharp"
    },
    "tags": []
   },
   "outputs": [
    {
     "data": {
      "text/html": [
       "\r\n",
       "<div>\r\n",
       "    <div id='dotnet-interactive-this-cell-17356.Microsoft.DotNet.Interactive.Http.HttpPort' style='display: none'>\r\n",
       "        The below script needs to be able to find the current output cell; this is an easy method to get it.\r\n",
       "    </div>\r\n",
       "    <script type='text/javascript'>\r\n",
       "async function probeAddresses(probingAddresses) {\r\n",
       "    function timeout(ms, promise) {\r\n",
       "        return new Promise(function (resolve, reject) {\r\n",
       "            setTimeout(function () {\r\n",
       "                reject(new Error('timeout'))\r\n",
       "            }, ms)\r\n",
       "            promise.then(resolve, reject)\r\n",
       "        })\r\n",
       "    }\r\n",
       "\r\n",
       "    if (Array.isArray(probingAddresses)) {\r\n",
       "        for (let i = 0; i < probingAddresses.length; i++) {\r\n",
       "\r\n",
       "            let rootUrl = probingAddresses[i];\r\n",
       "\r\n",
       "            if (!rootUrl.endsWith('/')) {\r\n",
       "                rootUrl = `${rootUrl}/`;\r\n",
       "            }\r\n",
       "\r\n",
       "            try {\r\n",
       "                let response = await timeout(1000, fetch(`${rootUrl}discovery`, {\r\n",
       "                    method: 'POST',\r\n",
       "                    cache: 'no-cache',\r\n",
       "                    mode: 'cors',\r\n",
       "                    timeout: 1000,\r\n",
       "                    headers: {\r\n",
       "                        'Content-Type': 'text/plain'\r\n",
       "                    },\r\n",
       "                    body: probingAddresses[i]\r\n",
       "                }));\r\n",
       "\r\n",
       "                if (response.status == 200) {\r\n",
       "                    return rootUrl;\r\n",
       "                }\r\n",
       "            }\r\n",
       "            catch (e) { }\r\n",
       "        }\r\n",
       "    }\r\n",
       "}\r\n",
       "\r\n",
       "function loadDotnetInteractiveApi() {\r\n",
       "    probeAddresses([\"http://172.17.58.241:1000/\", \"http://192.168.137.1:1000/\", \"http://192.168.86.99:1000/\", \"http://100.122.159.221:1000/\", \"http://127.0.0.1:1000/\"])\r\n",
       "        .then((root) => {\r\n",
       "        // use probing to find host url and api resources\r\n",
       "        // load interactive helpers and language services\r\n",
       "        let dotnetInteractiveRequire = require.config({\r\n",
       "        context: '17356.Microsoft.DotNet.Interactive.Http.HttpPort',\r\n",
       "                paths:\r\n",
       "            {\r\n",
       "                'dotnet-interactive': `${root}resources`\r\n",
       "                }\r\n",
       "        }) || require;\r\n",
       "\r\n",
       "            window.dotnetInteractiveRequire = dotnetInteractiveRequire;\r\n",
       "\r\n",
       "            window.configureRequireFromExtension = function(extensionName, extensionCacheBuster) {\r\n",
       "                let paths = {};\r\n",
       "                paths[extensionName] = `${root}extensions/${extensionName}/resources/`;\r\n",
       "                \r\n",
       "                let internalRequire = require.config({\r\n",
       "                    context: extensionCacheBuster,\r\n",
       "                    paths: paths,\r\n",
       "                    urlArgs: `cacheBuster=${extensionCacheBuster}`\r\n",
       "                    }) || require;\r\n",
       "\r\n",
       "                return internalRequire\r\n",
       "            };\r\n",
       "        \r\n",
       "            dotnetInteractiveRequire([\r\n",
       "                    'dotnet-interactive/dotnet-interactive'\r\n",
       "                ],\r\n",
       "                function (dotnet) {\r\n",
       "                    dotnet.init(window);\r\n",
       "                },\r\n",
       "                function (error) {\r\n",
       "                    console.log(error);\r\n",
       "                }\r\n",
       "            );\r\n",
       "        })\r\n",
       "        .catch(error => {console.log(error);});\r\n",
       "    }\r\n",
       "\r\n",
       "// ensure `require` is available globally\r\n",
       "if ((typeof(require) !==  typeof(Function)) || (typeof(require.config) !== typeof(Function))) {\r\n",
       "    let require_script = document.createElement('script');\r\n",
       "    require_script.setAttribute('src', 'https://cdnjs.cloudflare.com/ajax/libs/require.js/2.3.6/require.min.js');\r\n",
       "    require_script.setAttribute('type', 'text/javascript');\r\n",
       "    \r\n",
       "    \r\n",
       "    require_script.onload = function() {\r\n",
       "        loadDotnetInteractiveApi();\r\n",
       "    };\r\n",
       "\r\n",
       "    document.getElementsByTagName('head')[0].appendChild(require_script);\r\n",
       "}\r\n",
       "else {\r\n",
       "    loadDotnetInteractiveApi();\r\n",
       "}\r\n",
       "\r\n",
       "    </script>\r\n",
       "</div>"
      ]
     },
     "metadata": {},
     "output_type": "display_data"
    }
   ],
   "source": [
    "let input = File.ReadAllLines @\"input/06.txt\""
   ]
  },
  {
   "cell_type": "code",
   "execution_count": 2,
   "id": "5fbfbc15-973a-4231-a97e-9fd1b90d7e90",
   "metadata": {},
   "outputs": [],
   "source": [
    "open System.Text.RegularExpressions"
   ]
  },
  {
   "cell_type": "code",
   "execution_count": 3,
   "id": "c3226721-fae0-4cdd-8956-f792f2707f19",
   "metadata": {},
   "outputs": [],
   "source": [
    "type State = Off | On"
   ]
  },
  {
   "cell_type": "code",
   "execution_count": 4,
   "id": "f7f06ea0-95bd-4216-ad2d-5262634a4b5b",
   "metadata": {},
   "outputs": [],
   "source": [
    "type Action = Toggle | Turn of State"
   ]
  },
  {
   "cell_type": "code",
   "execution_count": 5,
   "id": "5e467a8d-aac1-4911-9b67-5c21cb1a5fff",
   "metadata": {},
   "outputs": [],
   "source": [
    "type Point = { X: int; Y: int }"
   ]
  },
  {
   "cell_type": "code",
   "execution_count": 6,
   "id": "2de564c8-e013-46eb-9f59-2b01debf7a4c",
   "metadata": {},
   "outputs": [],
   "source": [
    "type Instruction = \n",
    "    { Action: Action\n",
    "      First: Point\n",
    "      Last: Point }"
   ]
  },
  {
   "cell_type": "code",
   "execution_count": 7,
   "id": "582e4677-1c3a-4e79-815d-31ee0975cb65",
   "metadata": {},
   "outputs": [],
   "source": [
    "let parseLine (s: string) = \n",
    "    let re = Regex.Match(s, @\"(toggle|turn off|turn on) (\\d+,\\d+) through (\\d+,\\d+)\")\n",
    "    let first = re.Groups.[2].Value.Split(',')\n",
    "    let last = re.Groups.[3].Value.Split(',')\n",
    "    { Action = \n",
    "        match re.Groups.[1].Value with\n",
    "        | \"toggle\" -> Toggle\n",
    "        | \"turn off\" -> Turn Off\n",
    "        | \"turn on\" -> Turn On\n",
    "        | _ -> raise <| FormatException(\"Invalid format.\")\n",
    "      First = { X = int first.[0]; Y = int first.[1] }\n",
    "      Last = { X = int last.[0]; Y = int last.[1] } }"
   ]
  },
  {
   "cell_type": "code",
   "execution_count": 8,
   "id": "297dd508-aac2-4929-9ba3-00b390b6173d",
   "metadata": {},
   "outputs": [],
   "source": [
    "let turn (state: State) (first: Point) (last: Point) (grid: State[][]) =\n",
    "    for i in first.X..last.X do\n",
    "        for j in first.Y..last.Y do\n",
    "            grid.[i].[j] <- state"
   ]
  },
  {
   "cell_type": "code",
   "execution_count": 9,
   "id": "7e541b12-d361-4c05-827b-97d442688712",
   "metadata": {},
   "outputs": [],
   "source": [
    "let toggle (first: Point) (last: Point) (grid: State[][]) = \n",
    "    for i in first.X..last.X do\n",
    "        for j in first.Y..last.Y do\n",
    "            match grid.[i].[j] with\n",
    "            | Off -> grid.[i].[j] <- On\n",
    "            | On -> grid.[i].[j] <- Off"
   ]
  },
  {
   "cell_type": "code",
   "execution_count": 10,
   "id": "618a80eb-77ab-4bff-be68-f9bcdcbb017f",
   "metadata": {},
   "outputs": [],
   "source": [
    "let grid = [| for x in 0..999 do [| for row in 0..999 do Off |] |]\n",
    "input\n",
    "|> Seq.map parseLine\n",
    "|> Seq.iter (fun i -> \n",
    "    match i.Action with \n",
    "    | Toggle -> toggle i.First i.Last grid\n",
    "    | Turn Off -> turn Off i.First i.Last grid\n",
    "    | Turn On -> turn On i.First i.Last grid)"
   ]
  },
  {
   "cell_type": "code",
   "execution_count": 11,
   "id": "9c4fb234-409b-4188-ad27-0ba3e400b12a",
   "metadata": {},
   "outputs": [
    {
     "data": {
      "text/html": [
       "<div class=\"dni-plaintext\">543903</div>"
      ]
     },
     "execution_count": 11,
     "metadata": {},
     "output_type": "execute_result"
    }
   ],
   "source": [
    "grid\n",
    "|> Seq.collect (fun row -> row)\n",
    "|> Seq.filter (fun state -> state = On)\n",
    "|> Seq.length"
   ]
  },
  {
   "cell_type": "markdown",
   "id": "ba952157-8aa8-4301-85fe-11c622d277bb",
   "metadata": {},
   "source": [
    "<h2 id=\"part2\">--- Part Two ---</h2>"
   ]
  },
  {
   "cell_type": "markdown",
   "id": "a6f3c802-e161-404e-88c8-75c0e19468f4",
   "metadata": {},
   "source": [
    "<p>You just finish implementing your winning light pattern when you realize you mistranslated Santa's message from Ancient Nordic Elvish.</p>\n",
    "<p>The light grid you bought actually has individual brightness controls; each light can have a brightness of zero or more.  The lights all start at zero.</p>\n",
    "<p>The phrase <code>turn on</code> actually means that you should increase the brightness of those lights by <code>1</code>.</p>\n",
    "<p>The phrase <code>turn off</code> actually means that you should decrease the brightness of those lights by <code>1</code>, to a minimum of zero.</p>\n",
    "<p>The phrase <code>toggle</code> actually means that you should increase the brightness of those lights by <code>2</code>.</p>\n",
    "<p>What is the <em>total brightness</em> of all lights combined after following Santa's instructions?</p>\n",
    "<p>For example:</p>\n",
    "<ul>\n",
    "<li><code>turn on 0,0 through 0,0</code> would increase the total brightness by <code>1</code>.</li>\n",
    "<li><code>toggle 0,0 through 999,999</code> would increase the total brightness by <code>2000000</code>.</li>\n",
    "</ul>"
   ]
  },
  {
   "cell_type": "code",
   "execution_count": 12,
   "id": "e396271a-22b9-476c-a30a-9456692d7ea7",
   "metadata": {},
   "outputs": [],
   "source": [
    "let turn' (state: State) (first: Point) (last: Point) (grid: int[][]) =\n",
    "    for i in first.X..last.X do\n",
    "        for j in first.Y..last.Y do\n",
    "            match state with\n",
    "            | On -> grid.[i].[j] <- grid.[i].[j] + 1\n",
    "            | Off -> \n",
    "                match grid.[i].[j] with\n",
    "                | 0 -> ()\n",
    "                | _ -> grid.[i].[j] <- grid.[i].[j] - 1"
   ]
  },
  {
   "cell_type": "code",
   "execution_count": 13,
   "id": "d6505db0-18b5-4f5b-9864-ab435323b987",
   "metadata": {},
   "outputs": [],
   "source": [
    "let toggle' (first: Point) (last: Point) (grid: int[][]) = \n",
    "    for i in first.X..last.X do\n",
    "        for j in first.Y..last.Y do\n",
    "            grid.[i].[j] <- grid.[i].[j] + 2"
   ]
  },
  {
   "cell_type": "code",
   "execution_count": 14,
   "id": "d8a2ecde-01a4-4ea0-aa49-1ce92ea56f16",
   "metadata": {},
   "outputs": [],
   "source": [
    "let grid' = [| for x in 0..999 do [| for row in 0..999 do 0 |] |]\n",
    "input\n",
    "|> Seq.map parseLine\n",
    "|> Seq.iter (fun i -> \n",
    "    match i.Action with \n",
    "    | Toggle -> toggle' i.First i.Last grid'\n",
    "    | Turn Off -> turn' Off i.First i.Last grid'\n",
    "    | Turn On -> turn' On i.First i.Last grid')"
   ]
  },
  {
   "cell_type": "code",
   "execution_count": 15,
   "id": "5debbef3-472f-49ab-8ef6-781423eececc",
   "metadata": {},
   "outputs": [
    {
     "data": {
      "text/html": [
       "<div class=\"dni-plaintext\">14687245</div>"
      ]
     },
     "execution_count": 15,
     "metadata": {},
     "output_type": "execute_result"
    }
   ],
   "source": [
    "grid'\n",
    "|> Seq.collect (fun row -> row)\n",
    "|> Seq.sum"
   ]
  },
  {
   "cell_type": "markdown",
   "id": "3cf9ab14-372a-4c82-8281-7f4d7d848c8d",
   "metadata": {},
   "source": [
    "[Prev](Day05.ipynb) | [Next](Day07.ipynb)"
   ]
  }
 ],
 "metadata": {
  "kernelspec": {
   "display_name": ".NET (F#)",
   "language": "F#",
   "name": ".net-fsharp"
  },
  "language_info": {
   "file_extension": ".fs",
   "mimetype": "text/x-fsharp",
   "name": "C#",
   "pygments_lexer": "fsharp",
   "version": "4.5"
  }
 },
 "nbformat": 4,
 "nbformat_minor": 5
}
