{
 "cells": [
  {
   "cell_type": "markdown",
   "metadata": {
    "dotnet_interactive": {
     "language": "fsharp"
    }
   },
   "source": [
    "<h2>--- Day 13: Knights of the Dinner Table ---</h2>"
   ]
  },
  {
   "cell_type": "markdown",
   "id": "46054780-5054-46c2-b16c-95de326151ae",
   "metadata": {},
   "source": [
    "[![Binder](https://mybinder.org/badge_logo.svg)](https://mybinder.org/v2/gh/oddrationale/AdventOfCode2015FSharp/master?urlpath=lab%2Ftree%2FDay13.ipynb)"
   ]
  },
  {
   "cell_type": "markdown",
   "metadata": {
    "dotnet_interactive": {
     "language": "fsharp"
    }
   },
   "source": [
    "<p>In years past, the holiday feast with your family hasn't gone so well.  Not everyone gets along!  This year, you resolve, will be different.  You're going to find the <em>optimal seating arrangement</em> and avoid all those awkward conversations.</p>\n",
    "<p>You start by writing up a list of everyone invited and the amount their happiness would increase or decrease if they were to find themselves sitting next to each other person.  You have a circular table that will be just big enough to fit everyone comfortably, and so each person will have exactly two neighbors.</p>\n",
    "<p>For example, suppose you have only four attendees planned, and you <span title=\"Finding a method to calculate happiness units is left as an exercise for the reader.\">calculate</span> their potential happiness as follows:</p>\n",
    "<pre><code>Alice would gain 54 happiness units by sitting next to Bob.\n",
    "Alice would lose 79 happiness units by sitting next to Carol.\n",
    "Alice would lose 2 happiness units by sitting next to David.\n",
    "Bob would gain 83 happiness units by sitting next to Alice.\n",
    "Bob would lose 7 happiness units by sitting next to Carol.\n",
    "Bob would lose 63 happiness units by sitting next to David.\n",
    "Carol would lose 62 happiness units by sitting next to Alice.\n",
    "Carol would gain 60 happiness units by sitting next to Bob.\n",
    "Carol would gain 55 happiness units by sitting next to David.\n",
    "David would gain 46 happiness units by sitting next to Alice.\n",
    "David would lose 7 happiness units by sitting next to Bob.\n",
    "David would gain 41 happiness units by sitting next to Carol.\n",
    "</code></pre>\n",
    "<p>Then, if you seat Alice next to David, Alice would lose <code>2</code> happiness units (because David talks so much), but David would gain <code>46</code> happiness units (because Alice is such a good listener), for a total change of <code>44</code>.</p>\n",
    "<p>If you continue around the table, you could then seat Bob next to Alice (Bob gains <code>83</code>, Alice gains <code>54</code>).  Finally, seat Carol, who sits next to Bob (Carol gains <code>60</code>, Bob loses <code>7</code>) and David (Carol gains <code>55</code>, David gains <code>41</code>).  The arrangement looks like this:</p>\n",
    "<pre><code>     +41 +46\n",
    "+55   David    -2\n",
    "Carol       Alice\n",
    "+60    Bob    +54\n",
    "     -7  +83\n",
    "</code></pre>\n",
    "<p>After trying every other seating arrangement in this hypothetical scenario, you find that this one is the most optimal, with a total change in happiness of <code>330</code>.</p>\n",
    "<p>What is the <em>total change in happiness</em> for the optimal seating arrangement of the actual guest list?</p>"
   ]
  },
  {
   "cell_type": "code",
   "execution_count": null,
   "metadata": {
    "dotnet_interactive": {
     "language": "fsharp"
    }
   },
   "outputs": [],
   "source": [
    "open System.Collections.Generic"
   ]
  },
  {
   "cell_type": "code",
   "execution_count": null,
   "id": "de56a3ee-fcca-41f8-bd23-22cec760ee60",
   "metadata": {
    "dotnet_interactive": {
     "language": "fsharp"
    },
    "tags": []
   },
   "outputs": [],
   "source": [
    "let input = File.ReadAllLines @\"input/13.txt\""
   ]
  },
  {
   "cell_type": "code",
   "execution_count": null,
   "metadata": {
    "dotnet_interactive": {
     "language": "fsharp"
    }
   },
   "outputs": [],
   "source": [
    "let parse (line: string) = \n",
    "    let split = line.Split(\" \")\n",
    "    let p1 = split.[0]\n",
    "    let p2 = split.[10].Replace(\".\", String.Empty)\n",
    "    let gainOrLose = \n",
    "        match split.[2] with\n",
    "        | \"gain\" -> 1\n",
    "        | \"lose\" -> -1\n",
    "        | _ -> 0\n",
    "    let happiness = split.[3] |> int |> (*) gainOrLose\n",
    "    p1, p2, happiness"
   ]
  },
  {
   "cell_type": "markdown",
   "metadata": {
    "dotnet_interactive": {
     "language": "fsharp"
    }
   },
   "source": [
    "Create a dictionary of dictionaries. First set of keys would be the initial person, the second key would be the person the are sitting next to. E.g., using the example above, `happinessMap.[\"Alice\"].[\"Bob\"]` equals `54`."
   ]
  },
  {
   "cell_type": "code",
   "execution_count": null,
   "metadata": {
    "dotnet_interactive": {
     "language": "fsharp"
    }
   },
   "outputs": [],
   "source": [
    "let createHappinessMap (input: string[]) = \n",
    "    input\n",
    "    |> Seq.map parse\n",
    "    |> Seq.groupBy (fun (p1, _, _) -> p1)\n",
    "    |> Seq.map (fun (grp, values) -> grp, dict [for (_, p2, h) in values -> p2, h])\n",
    "    |> dict"
   ]
  },
  {
   "cell_type": "code",
   "execution_count": null,
   "metadata": {
    "dotnet_interactive": {
     "language": "fsharp"
    }
   },
   "outputs": [],
   "source": [
    "let happinessMap = createHappinessMap input"
   ]
  },
  {
   "cell_type": "markdown",
   "id": "dd2b41bc",
   "metadata": {},
   "source": [
    "Got the `permute` function [from StackOverflow](https://stackoverflow.com/a/3129136)."
   ]
  },
  {
   "cell_type": "code",
   "execution_count": null,
   "metadata": {
    "dotnet_interactive": {
     "language": "fsharp"
    }
   },
   "outputs": [],
   "source": [
    "let rec distribute e = function\n",
    "  | [] -> [[e]]\n",
    "  | x::xs' as xs -> (e::xs)::[for xs in distribute e xs' -> x::xs]\n",
    "\n",
    "let rec permute = function\n",
    "  | [] -> [[]]\n",
    "  | e::xs -> List.collect (distribute e) (permute xs)"
   ]
  },
  {
   "cell_type": "code",
   "execution_count": null,
   "metadata": {
    "dotnet_interactive": {
     "language": "fsharp"
    }
   },
   "outputs": [
    {
     "data": {
      "text/html": [
       "<div class=\"dni-plaintext\">733</div>"
      ]
     },
     "metadata": {},
     "output_type": "display_data"
    },
    {
     "data": {
      "text/plain": [
       "Wall time: 125.3745ms"
      ]
     },
     "metadata": {},
     "output_type": "display_data"
    }
   ],
   "source": [
    "#!time\n",
    "happinessMap.Keys\n",
    "|> List.ofSeq\n",
    "|> permute\n",
    "|> Seq.map (fun arr -> \n",
    "    arr\n",
    "    |> Seq.windowed 2\n",
    "    |> Seq.append [|[|arr |> Seq.last; arr |> Seq.head|]|]\n",
    "    |> Seq.map (fun pair -> happinessMap.[pair.[0]].[pair.[1]] + happinessMap.[pair.[1]].[pair.[0]])\n",
    "    |> Seq.sum\n",
    ")\n",
    "|> Seq.max"
   ]
  },
  {
   "cell_type": "markdown",
   "id": "8add84cb-6b57-4b61-aeac-95d05d1909c6",
   "metadata": {},
   "source": [
    "<h2 id=\"part2\">--- Part Two ---</h2>"
   ]
  },
  {
   "cell_type": "markdown",
   "metadata": {
    "dotnet_interactive": {
     "language": "fsharp"
    }
   },
   "source": [
    "<p>In all the commotion, you realize that you forgot to seat yourself.  At this point, you're pretty apathetic toward the whole thing, and your happiness wouldn't really go up or down regardless of who you sit next to.  You assume everyone else would be just as ambivalent about sitting next to you, too.</p>\n",
    "<p>So, add yourself to the list, and give all happiness relationships that involve you a score of <code>0</code>.</p>\n",
    "<p>What is the <em>total change in happiness</em> for the optimal seating arrangement that actually includes yourself?</p>"
   ]
  },
  {
   "cell_type": "code",
   "execution_count": null,
   "metadata": {
    "dotnet_interactive": {
     "language": "fsharp"
    }
   },
   "outputs": [],
   "source": [
    "let findHappiness (happinessMap: IDictionary<string,IDictionary<string, int>>) pair = \n",
    "    let p1 = pair |> Seq.head\n",
    "    let p2 = pair |> Seq.last\n",
    "    if happinessMap.ContainsKey p1 then\n",
    "        if happinessMap.[p1].ContainsKey p2 then\n",
    "            happinessMap.[p1].[p2]\n",
    "        else 0\n",
    "    else 0"
   ]
  },
  {
   "cell_type": "code",
   "execution_count": null,
   "metadata": {
    "dotnet_interactive": {
     "language": "fsharp"
    }
   },
   "outputs": [
    {
     "data": {
      "text/html": [
       "<div class=\"dni-plaintext\">725</div>"
      ]
     },
     "metadata": {},
     "output_type": "display_data"
    },
    {
     "data": {
      "text/plain": [
       "Wall time: 3260.1303ms"
      ]
     },
     "metadata": {},
     "output_type": "display_data"
    }
   ],
   "source": [
    "#!time\n",
    "happinessMap.Keys\n",
    "|> List.ofSeq\n",
    "|> List.append [\"Me\"]\n",
    "|> permute\n",
    "|> Seq.map (fun arr ->\n",
    "    arr\n",
    "    |> Seq.windowed 2\n",
    "    |> Seq.append [|[|arr |> Seq.last; arr |> Seq.head|]|]\n",
    "    |> Seq.map (fun pair -> (findHappiness happinessMap pair) + (findHappiness happinessMap (Seq.rev pair)))\n",
    "    |> Seq.sum\n",
    ")\n",
    "|> Seq.max"
   ]
  },
  {
   "cell_type": "markdown",
   "id": "7f8bb89c-38a9-4458-97f2-5f32fb425373",
   "metadata": {},
   "source": [
    "[Prev](Day12.ipynb) | [Next](Day14.ipynb)"
   ]
  }
 ],
 "metadata": {
  "kernelspec": {
   "display_name": ".NET (F#)",
   "language": "F#",
   "name": ".net-fsharp"
  },
  "language_info": {
   "name": "F#"
  }
 },
 "nbformat": 4,
 "nbformat_minor": 2
}
