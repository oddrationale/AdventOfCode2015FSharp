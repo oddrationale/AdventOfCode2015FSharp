{
 "cells": [
  {
   "cell_type": "markdown",
   "id": "1d1e3173-1b52-45a7-b82b-ad295bc4efa1",
   "metadata": {
    "tags": []
   },
   "source": [
    "<h2>--- Day 8: Matchsticks ---</h2>"
   ]
  },
  {
   "cell_type": "markdown",
   "id": "46054780-5054-46c2-b16c-95de326151ae",
   "metadata": {},
   "source": [
    "[![Binder](https://mybinder.org/badge_logo.svg)](https://mybinder.org/v2/gh/oddrationale/AdventOfCode2015FSharp/master?urlpath=lab%2Ftree%2FDay08.ipynb)"
   ]
  },
  {
   "cell_type": "markdown",
   "id": "69f9e653-75e5-4da7-8617-1b33be60c7ba",
   "metadata": {},
   "source": [
    "<p>Space on the sleigh is limited this year, and so Santa will be bringing his list as a digital copy. He needs to know how much space it will take up when stored.</p>\n",
    "<p>It is common in many programming languages to provide a way to <span title=\"It is common for many programmers to try to escape from string escaping.  No such luck here.\">escape</span> special characters in strings.  For example, <a href=\"https://en.wikipedia.org/wiki/Escape_sequences_in_C\">C</a>, <a href=\"https://developer.mozilla.org/en-US/docs/Web/JavaScript/Reference/Global_Objects/String\">JavaScript</a>, <a href=\"http://perldoc.perl.org/perlop.html#Quote-and-Quote-like-Operators\">Perl</a>, <a href=\"https://docs.python.org/2.0/ref/strings.html\">Python</a>, and even <a href=\"http://php.net/manual/en/language.types.string.php#language.types.string.syntax.double\">PHP</a> handle special characters in very similar ways.</p>\n",
    "<p>However, it is important to realize the difference between the number of characters <em>in the code representation of the string literal</em> and the number of characters <em>in the in-memory string itself</em>.</p>\n",
    "<p>For example:</p>\n",
    "<ul>\n",
    "<li><code>\"\"</code> is <code>2</code> characters of code (the two double quotes), but the string contains zero characters.</li>\n",
    "<li><code>\"abc\"</code> is <code>5</code> characters of code, but <code>3</code> characters in the string data.</li>\n",
    "<li><code>\"aaa\\\"aaa\"</code> is <code>10</code> characters of code, but the string itself contains six \"a\" characters and a single, escaped quote character, for a total of <code>7</code> characters in the string data.</li>\n",
    "<li><code>\"\\x27\"</code> is <code>6</code> characters of code, but the string itself contains just one - an apostrophe (<code>'</code>), escaped using hexadecimal notation.</li>\n",
    "</ul>\n",
    "<p>Santa's list is a file that contains many double-quoted string literals, one on each line.  The only escape sequences used are <code>\\\\</code> (which represents a single backslash), <code>\\\"</code> (which represents a lone double-quote character), and <code>\\x</code> plus two hexadecimal characters (which represents a single character with that ASCII code).</p>\n",
    "<p>Disregarding the whitespace in the file, what is <em>the number of characters of code for string literals</em> minus <em>the number of characters in memory for the values of the strings</em> in total for the entire file?</p>\n",
    "<p>For example, given the four strings above, the total number of characters of string code (<code>2 + 5 + 10 + 6 = 23</code>) minus the total number of characters in memory for string values (<code>0 + 3 + 7 + 1 = 11</code>) is <code>23 - 11 = 12</code>.</p>"
   ]
  },
  {
   "cell_type": "code",
   "execution_count": null,
   "id": "e40dfb34-61ab-4c5a-9a9d-3516414e3781",
   "metadata": {
    "dotnet_interactive": {
     "language": "fsharp"
    }
   },
   "outputs": [],
   "source": [
    "open System.Text.RegularExpressions"
   ]
  },
  {
   "cell_type": "code",
   "execution_count": null,
   "id": "de56a3ee-fcca-41f8-bd23-22cec760ee60",
   "metadata": {
    "dotnet_interactive": {
     "language": "fsharp"
    },
    "tags": []
   },
   "outputs": [],
   "source": [
    "let input = File.ReadAllLines @\"input/08.txt\""
   ]
  },
  {
   "cell_type": "code",
   "execution_count": null,
   "id": "c7cd8e90-d9eb-486f-b640-6109ed5aeda8",
   "metadata": {
    "dotnet_interactive": {
     "language": "fsharp"
    }
   },
   "outputs": [],
   "source": [
    "let trimQuotations (s: string) = \n",
    "    Regex.Match(s, \"\"\"^\"(.*?)\"$\"\"\").Groups.[1].Value"
   ]
  },
  {
   "cell_type": "code",
   "execution_count": null,
   "id": "97861980-3d67-4043-9f44-36aa0c7f1408",
   "metadata": {
    "dotnet_interactive": {
     "language": "fsharp"
    }
   },
   "outputs": [],
   "source": [
    "let unescape (s: string) = \n",
    "    Regex.Replace(s, @\"\\\\([^x])\", \"$1\")"
   ]
  },
  {
   "cell_type": "code",
   "execution_count": null,
   "id": "2f5a9c60-7fe8-40e2-abf9-268534507c88",
   "metadata": {
    "dotnet_interactive": {
     "language": "fsharp"
    }
   },
   "outputs": [],
   "source": [
    "let convertHex (s: string) = \n",
    "    let mutable str = s\n",
    "    let hexes = Regex.Matches(s, @\"\\\\x([0-9a-fA-F]{2})\")\n",
    "    for hex in hexes do\n",
    "        str <- str.Replace(hex.Value, Convert.ToInt32(hex.Groups.[1].Value, 16) |> Char.ConvertFromUtf32)\n",
    "    str"
   ]
  },
  {
   "cell_type": "code",
   "execution_count": null,
   "id": "3b0ee26a-fbdf-429a-a0d9-0d3ab0658e03",
   "metadata": {
    "dotnet_interactive": {
     "language": "fsharp"
    }
   },
   "outputs": [],
   "source": [
    "let parseString = trimQuotations >> unescape >> convertHex"
   ]
  },
  {
   "cell_type": "code",
   "execution_count": null,
   "id": "b1a6a53d-71d9-42ce-9c35-5077a39d439c",
   "metadata": {
    "dotnet_interactive": {
     "language": "fsharp"
    }
   },
   "outputs": [
    {
     "data": {
      "text/html": [
       "<div class=\"dni-plaintext\">1350</div>"
      ]
     },
     "metadata": {},
     "output_type": "display_data"
    },
    {
     "data": {
      "text/plain": [
       "Wall time: 194.0783ms"
      ]
     },
     "metadata": {},
     "output_type": "display_data"
    }
   ],
   "source": [
    "#!time\n",
    "input\n",
    "|> Seq.fold (fun acc s -> acc + s.Length - (parseString s).Length) 0"
   ]
  },
  {
   "cell_type": "markdown",
   "id": "8add84cb-6b57-4b61-aeac-95d05d1909c6",
   "metadata": {},
   "source": [
    "<h2 id=\"part2\">--- Part Two ---</h2>"
   ]
  },
  {
   "cell_type": "markdown",
   "id": "7fcacd8a-e961-4461-94da-70d6a55d5ff6",
   "metadata": {},
   "source": [
    "<p>Now, let's go the other way.  In addition to finding the number of characters of code, you should now <em>encode each code representation as a new string</em> and find the number of characters of the new encoded representation, including the surrounding double quotes.</p>\n",
    "<p>For example:</p>\n",
    "<ul>\n",
    "<li><code>\"\"</code> encodes to <code>\"\\\"\\\"\"</code>, an increase from <code>2</code> characters to <code>6</code>.</li>\n",
    "<li><code>\"abc\"</code> encodes to <code>\"\\\"abc\\\"\"</code>, an increase from <code>5</code> characters to <code>9</code>.</li>\n",
    "<li><code>\"aaa\\\"aaa\"</code> encodes to <code>\"\\\"aaa\\\\\\\"aaa\\\"\"</code>, an increase from <code>10</code> characters to <code>16</code>.</li>\n",
    "<li><code>\"\\x27\"</code> encodes to <code>\"\\\"\\\\x27\\\"\"</code>, an increase from <code>6</code> characters to <code>11</code>.</li>\n",
    "</ul>\n",
    "<p>Your task is to find <em>the total number of characters to represent the newly encoded strings</em> minus <em>the number of characters of code in each original string literal</em>. For example, for the strings above, the total encoded length (<code>6 + 9 + 16 + 11 = 42</code>) minus the characters in the original code representation (<code>23</code>, just like in the first part of this puzzle) is <code>42 - 23 = 19</code>.</p>"
   ]
  },
  {
   "cell_type": "code",
   "execution_count": null,
   "id": "faab8c53-d978-4056-be1c-4c27eb656273",
   "metadata": {
    "dotnet_interactive": {
     "language": "fsharp"
    }
   },
   "outputs": [],
   "source": [
    "let escape (s: string) = \n",
    "    Regex.Replace(s, @\"[^a-zA-Z0-9]\", \"\\\\$&\")"
   ]
  },
  {
   "cell_type": "code",
   "execution_count": null,
   "id": "57582462-d188-4856-99d5-99c2a82e7da4",
   "metadata": {
    "dotnet_interactive": {
     "language": "fsharp"
    }
   },
   "outputs": [],
   "source": [
    "let quote (s: string) = \n",
    "    $\"\\\"{s}\\\"\""
   ]
  },
  {
   "cell_type": "code",
   "execution_count": null,
   "id": "3a9f6a71-fac6-44b2-8e73-bdc5799903f8",
   "metadata": {
    "dotnet_interactive": {
     "language": "fsharp"
    }
   },
   "outputs": [],
   "source": [
    "let reencode = escape >> quote"
   ]
  },
  {
   "cell_type": "code",
   "execution_count": null,
   "id": "b5de4190-b50b-40c1-94d0-4dbf5e2963d6",
   "metadata": {
    "dotnet_interactive": {
     "language": "fsharp"
    }
   },
   "outputs": [
    {
     "data": {
      "text/html": [
       "<div class=\"dni-plaintext\">2085</div>"
      ]
     },
     "metadata": {},
     "output_type": "display_data"
    },
    {
     "data": {
      "text/plain": [
       "Wall time: 14.3086ms"
      ]
     },
     "metadata": {},
     "output_type": "display_data"
    }
   ],
   "source": [
    "#!time\n",
    "input\n",
    "|> Seq.fold (fun acc s -> acc + (reencode s).Length - s.Length) 0"
   ]
  },
  {
   "cell_type": "markdown",
   "id": "7f8bb89c-38a9-4458-97f2-5f32fb425373",
   "metadata": {},
   "source": [
    "[Prev](Day07.ipynb) | [Next](Day09.ipynb)"
   ]
  }
 ],
 "metadata": {
  "kernelspec": {
   "display_name": ".NET (F#)",
   "language": "F#",
   "name": ".net-fsharp"
  },
  "language_info": {
   "file_extension": ".fs",
   "mimetype": "text/x-fsharp",
   "name": "F#",
   "pygments_lexer": "fsharp",
   "version": "5.0"
  }
 },
 "nbformat": 4,
 "nbformat_minor": 5
}
