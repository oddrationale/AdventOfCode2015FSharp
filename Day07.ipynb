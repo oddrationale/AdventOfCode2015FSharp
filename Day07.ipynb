{
 "cells": [
  {
   "cell_type": "markdown",
   "id": "1d1e3173-1b52-45a7-b82b-ad295bc4efa1",
   "metadata": {
    "tags": []
   },
   "source": [
    "<h2>--- Day 7: Some Assembly Required ---</h2>"
   ]
  },
  {
   "cell_type": "markdown",
   "id": "46054780-5054-46c2-b16c-95de326151ae",
   "metadata": {},
   "source": [
    "[![Binder](https://mybinder.org/badge_logo.svg)](https://mybinder.org/v2/gh/oddrationale/AdventOfCode2015FSharp/master?urlpath=lab%2Ftree%2FDay07.ipynb)"
   ]
  },
  {
   "cell_type": "markdown",
   "id": "69f9e653-75e5-4da7-8617-1b33be60c7ba",
   "metadata": {},
   "source": [
    "<p>This year, Santa brought little Bobby Tables a set of wires and <a href=\"https://en.wikipedia.org/wiki/Bitwise_operation\">bitwise logic gates</a>!  Unfortunately, little Bobby is a little under the recommended age range, and he needs help <span title=\"You had one of these as a kid, right?\">assembling the circuit</span>.</p>\n",
    "<p>Each wire has an identifier (some lowercase letters) and can carry a <a href=\"https://en.wikipedia.org/wiki/16-bit\">16-bit</a> signal (a number from <code>0</code> to <code>65535</code>).  A signal is provided to each wire by a gate, another wire, or some specific value. Each wire can only get a signal from one source, but can provide its signal to multiple destinations.  A gate provides no signal until all of its inputs have a signal.</p>\n",
    "<p>The included instructions booklet describes how to connect the parts together: <code>x AND y -> z</code> means to connect wires <code>x</code> and <code>y</code> to an AND gate, and then connect its output to wire <code>z</code>.</p>\n",
    "<p>For example:</p>\n",
    "<ul>\n",
    "<li><code>123 -> x</code> means that the signal <code>123</code> is provided to wire <code>x</code>.</li>\n",
    "<li><code>x AND y -> z</code> means that the <a href=\"https://en.wikipedia.org/wiki/Bitwise_operation#AND\">bitwise AND</a> of wire <code>x</code> and wire <code>y</code> is provided to wire <code>z</code>.</li>\n",
    "<li><code>p LSHIFT 2 -> q</code> means that the value from wire <code>p</code> is <a href=\"https://en.wikipedia.org/wiki/Logical_shift\">left-shifted</a> by <code>2</code> and then provided to wire <code>q</code>.</li>\n",
    "<li><code>NOT e -> f</code> means that the <a href=\"https://en.wikipedia.org/wiki/Bitwise_operation#NOT\">bitwise complement</a> of the value from wire <code>e</code> is provided to wire <code>f</code>.</li>\n",
    "</ul>\n",
    "<p>Other possible gates include <code>OR</code> (<a href=\"https://en.wikipedia.org/wiki/Bitwise_operation#OR\">bitwise OR</a>) and <code>RSHIFT</code> (<a href=\"https://en.wikipedia.org/wiki/Logical_shift\">right-shift</a>).  If, for some reason, you'd like to <em>emulate</em> the circuit instead, almost all programming languages (for example, <a href=\"https://en.wikipedia.org/wiki/Bitwise_operations_in_C\">C</a>, <a href=\"https://developer.mozilla.org/en-US/docs/Web/JavaScript/Reference/Operators/Bitwise_Operators\">JavaScript</a>, or <a href=\"https://wiki.python.org/moin/BitwiseOperators\">Python</a>) provide operators for these gates.</p>\n",
    "<p>For example, here is a simple circuit:</p>\n",
    "<pre><code>123 -> x\n",
    "456 -> y\n",
    "x AND y -> d\n",
    "x OR y -> e\n",
    "x LSHIFT 2 -> f\n",
    "y RSHIFT 2 -> g\n",
    "NOT x -> h\n",
    "NOT y -> i\n",
    "</code></pre>\n",
    "<p>After it is run, these are the signals on the wires:</p>\n",
    "<pre><code>d: 72\n",
    "e: 507\n",
    "f: 492\n",
    "g: 114\n",
    "h: 65412\n",
    "i: 65079\n",
    "x: 123\n",
    "y: 456\n",
    "</code></pre>\n",
    "<p>In little Bobby's kit's instructions booklet (provided as your puzzle input), what signal is ultimately provided to <em>wire <code>a</code></em>?</p>"
   ]
  },
  {
   "cell_type": "code",
   "execution_count": 1,
   "id": "877a01ba-c979-4e83-b62c-38ebfc621502",
   "metadata": {},
   "outputs": [
    {
     "data": {
      "text/html": [
       "\r\n",
       "<div>\r\n",
       "    <div id='dotnet-interactive-this-cell-3644.Microsoft.DotNet.Interactive.Http.HttpPort' style='display: none'>\r\n",
       "        The below script needs to be able to find the current output cell; this is an easy method to get it.\r\n",
       "    </div>\r\n",
       "    <script type='text/javascript'>\r\n",
       "async function probeAddresses(probingAddresses) {\r\n",
       "    function timeout(ms, promise) {\r\n",
       "        return new Promise(function (resolve, reject) {\r\n",
       "            setTimeout(function () {\r\n",
       "                reject(new Error('timeout'))\r\n",
       "            }, ms)\r\n",
       "            promise.then(resolve, reject)\r\n",
       "        })\r\n",
       "    }\r\n",
       "\r\n",
       "    if (Array.isArray(probingAddresses)) {\r\n",
       "        for (let i = 0; i < probingAddresses.length; i++) {\r\n",
       "\r\n",
       "            let rootUrl = probingAddresses[i];\r\n",
       "\r\n",
       "            if (!rootUrl.endsWith('/')) {\r\n",
       "                rootUrl = `${rootUrl}/`;\r\n",
       "            }\r\n",
       "\r\n",
       "            try {\r\n",
       "                let response = await timeout(1000, fetch(`${rootUrl}discovery`, {\r\n",
       "                    method: 'POST',\r\n",
       "                    cache: 'no-cache',\r\n",
       "                    mode: 'cors',\r\n",
       "                    timeout: 1000,\r\n",
       "                    headers: {\r\n",
       "                        'Content-Type': 'text/plain'\r\n",
       "                    },\r\n",
       "                    body: probingAddresses[i]\r\n",
       "                }));\r\n",
       "\r\n",
       "                if (response.status == 200) {\r\n",
       "                    return rootUrl;\r\n",
       "                }\r\n",
       "            }\r\n",
       "            catch (e) { }\r\n",
       "        }\r\n",
       "    }\r\n",
       "}\r\n",
       "\r\n",
       "function loadDotnetInteractiveApi() {\r\n",
       "    probeAddresses([\"http://172.17.58.241:1000/\", \"http://192.168.137.1:1000/\", \"http://192.168.86.99:1000/\", \"http://100.122.151.168:1000/\", \"http://127.0.0.1:1000/\"])\r\n",
       "        .then((root) => {\r\n",
       "        // use probing to find host url and api resources\r\n",
       "        // load interactive helpers and language services\r\n",
       "        let dotnetInteractiveRequire = require.config({\r\n",
       "        context: '3644.Microsoft.DotNet.Interactive.Http.HttpPort',\r\n",
       "                paths:\r\n",
       "            {\r\n",
       "                'dotnet-interactive': `${root}resources`\r\n",
       "                }\r\n",
       "        }) || require;\r\n",
       "\r\n",
       "            window.dotnetInteractiveRequire = dotnetInteractiveRequire;\r\n",
       "\r\n",
       "            window.configureRequireFromExtension = function(extensionName, extensionCacheBuster) {\r\n",
       "                let paths = {};\r\n",
       "                paths[extensionName] = `${root}extensions/${extensionName}/resources/`;\r\n",
       "                \r\n",
       "                let internalRequire = require.config({\r\n",
       "                    context: extensionCacheBuster,\r\n",
       "                    paths: paths,\r\n",
       "                    urlArgs: `cacheBuster=${extensionCacheBuster}`\r\n",
       "                    }) || require;\r\n",
       "\r\n",
       "                return internalRequire\r\n",
       "            };\r\n",
       "        \r\n",
       "            dotnetInteractiveRequire([\r\n",
       "                    'dotnet-interactive/dotnet-interactive'\r\n",
       "                ],\r\n",
       "                function (dotnet) {\r\n",
       "                    dotnet.init(window);\r\n",
       "                },\r\n",
       "                function (error) {\r\n",
       "                    console.log(error);\r\n",
       "                }\r\n",
       "            );\r\n",
       "        })\r\n",
       "        .catch(error => {console.log(error);});\r\n",
       "    }\r\n",
       "\r\n",
       "// ensure `require` is available globally\r\n",
       "if ((typeof(require) !==  typeof(Function)) || (typeof(require.config) !== typeof(Function))) {\r\n",
       "    let require_script = document.createElement('script');\r\n",
       "    require_script.setAttribute('src', 'https://cdnjs.cloudflare.com/ajax/libs/require.js/2.3.6/require.min.js');\r\n",
       "    require_script.setAttribute('type', 'text/javascript');\r\n",
       "    \r\n",
       "    \r\n",
       "    require_script.onload = function() {\r\n",
       "        loadDotnetInteractiveApi();\r\n",
       "    };\r\n",
       "\r\n",
       "    document.getElementsByTagName('head')[0].appendChild(require_script);\r\n",
       "}\r\n",
       "else {\r\n",
       "    loadDotnetInteractiveApi();\r\n",
       "}\r\n",
       "\r\n",
       "    </script>\r\n",
       "</div>"
      ]
     },
     "metadata": {},
     "output_type": "display_data"
    }
   ],
   "source": [
    "open System.Collections.Generic"
   ]
  },
  {
   "cell_type": "code",
   "execution_count": 2,
   "id": "de56a3ee-fcca-41f8-bd23-22cec760ee60",
   "metadata": {
    "dotnet_interactive": {
     "language": "fsharp"
    },
    "tags": []
   },
   "outputs": [],
   "source": [
    "let input = File.ReadAllLines @\"input/07.txt\""
   ]
  },
  {
   "cell_type": "markdown",
   "id": "934b965d-55bb-4ade-939b-e79adc666866",
   "metadata": {},
   "source": [
    "Parse the input as a dictionary of arrays."
   ]
  },
  {
   "cell_type": "code",
   "execution_count": 3,
   "id": "50ffcefb-6b39-45ca-9127-276e58da742b",
   "metadata": {},
   "outputs": [],
   "source": [
    "let parse (line: string) =\n",
    "    let parts = line.Split(\" -> \")\n",
    "    parts.[1], parts.[0].Split(\" \")"
   ]
  },
  {
   "cell_type": "code",
   "execution_count": 4,
   "id": "000f8398-d7a2-4a0e-bb98-4cd3e9060231",
   "metadata": {},
   "outputs": [],
   "source": [
    "let circuit = new Dictionary<string, string[]>(dict [for line in input -> line |> parse])"
   ]
  },
  {
   "cell_type": "markdown",
   "id": "4e460e3b-4f3c-46b7-be3d-829b60bb2b68",
   "metadata": {},
   "source": [
    "Create a recursive function but save the results back to the dictionary as you go so you don't have to recalculate the values."
   ]
  },
  {
   "cell_type": "code",
   "execution_count": 5,
   "id": "ce474f22-d900-4c6b-ba51-766281f3f663",
   "metadata": {},
   "outputs": [],
   "source": [
    "let rec evaluate (circuit: IDictionary<string, string[]>) (wire: string): uint16 =\n",
    "    let signalOrWire (s: string) =\n",
    "        match UInt16.TryParse s with\n",
    "        | true, signal -> signal\n",
    "        | _ -> evaluate circuit s\n",
    "    \n",
    "    if circuit.[wire].Length = 1 then\n",
    "        let signal = signalOrWire circuit.[wire].[0]\n",
    "        circuit.[wire] <- [| signal |> string |]\n",
    "        signal\n",
    "    elif circuit.[wire].Length = 2 then\n",
    "        let signal = ~~~ (signalOrWire circuit.[wire].[1])\n",
    "        circuit.[wire] <- [| signal |> string |]\n",
    "        signal\n",
    "    elif circuit.[wire].[1] = \"AND\" then\n",
    "        let signal = (signalOrWire circuit.[wire].[0]) &&& (signalOrWire circuit.[wire].[2])\n",
    "        circuit.[wire] <- [| signal |> string |]\n",
    "        signal\n",
    "    elif circuit.[wire].[1] = \"OR\" then\n",
    "        let signal = (signalOrWire circuit.[wire].[0]) ||| (signalOrWire circuit.[wire].[2])\n",
    "        circuit.[wire] <- [| signal |> string |]\n",
    "        signal\n",
    "    elif circuit.[wire].[1] = \"LSHIFT\" then\n",
    "        let signal = (signalOrWire circuit.[wire].[0]) <<< (circuit.[wire].[2] |> int)\n",
    "        circuit.[wire] <- [| signal |> string |]\n",
    "        signal\n",
    "    elif circuit.[wire].[1] = \"RSHIFT\" then\n",
    "        let signal = (signalOrWire circuit.[wire].[0]) >>> (circuit.[wire].[2] |> int)\n",
    "        circuit.[wire] <- [| signal |> string |]\n",
    "        signal\n",
    "    else\n",
    "        0us"
   ]
  },
  {
   "cell_type": "code",
   "execution_count": 6,
   "id": "b589a5ef-1cec-4a59-87b9-a9aac829a41b",
   "metadata": {},
   "outputs": [
    {
     "data": {
      "text/html": [
       "<div class=\"dni-plaintext\">956</div>"
      ]
     },
     "execution_count": 6,
     "metadata": {},
     "output_type": "execute_result"
    }
   ],
   "source": [
    "evaluate circuit \"a\""
   ]
  },
  {
   "cell_type": "markdown",
   "id": "8add84cb-6b57-4b61-aeac-95d05d1909c6",
   "metadata": {},
   "source": [
    "<h2 id=\"part2\">--- Part Two ---</h2>"
   ]
  },
  {
   "cell_type": "markdown",
   "id": "a792b722-1375-40bd-b946-9fd3267d68d6",
   "metadata": {},
   "source": [
    "<p>Now, take the signal you got on wire <code>a</code>, override wire <code>b</code> to that signal, and reset the other wires (including wire <code>a</code>).  What new signal is ultimately provided to wire <code>a</code>?</p>"
   ]
  },
  {
   "cell_type": "code",
   "execution_count": 7,
   "id": "b2d499cc-4b10-4433-9e1f-d1da2c383620",
   "metadata": {},
   "outputs": [],
   "source": [
    "let circuit2 = new Dictionary<string, string[]>(dict [for line in input -> line |> parse])"
   ]
  },
  {
   "cell_type": "code",
   "execution_count": 8,
   "id": "89efec46-bede-4b94-bf5d-ca3cf383829a",
   "metadata": {},
   "outputs": [],
   "source": [
    "circuit2.[\"b\"] <- [| evaluate circuit \"a\" |> string |]"
   ]
  },
  {
   "cell_type": "code",
   "execution_count": 9,
   "id": "8a9cc8f6-214c-4c9e-80e1-c2fd2f45838a",
   "metadata": {},
   "outputs": [
    {
     "data": {
      "text/html": [
       "<div class=\"dni-plaintext\">40149</div>"
      ]
     },
     "execution_count": 9,
     "metadata": {},
     "output_type": "execute_result"
    }
   ],
   "source": [
    "evaluate circuit2 \"a\""
   ]
  },
  {
   "cell_type": "markdown",
   "id": "7f8bb89c-38a9-4458-97f2-5f32fb425373",
   "metadata": {},
   "source": [
    "[Prev](Day06.ipynb) | [Next](Day08.ipynb)"
   ]
  }
 ],
 "metadata": {
  "kernelspec": {
   "display_name": ".NET (F#)",
   "language": "F#",
   "name": ".net-fsharp"
  },
  "language_info": {
   "file_extension": ".fs",
   "mimetype": "text/x-fsharp",
   "name": "F#",
   "pygments_lexer": "fsharp",
   "version": "5.0"
  }
 },
 "nbformat": 4,
 "nbformat_minor": 5
}
