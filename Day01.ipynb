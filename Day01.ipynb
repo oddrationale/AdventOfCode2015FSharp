{
 "cells": [
  {
   "cell_type": "markdown",
   "id": "571255d2-7bab-457f-ae95-82559d01d0b0",
   "metadata": {},
   "source": [
    "<h2>--- Day 1: Not Quite Lisp ---</h2>"
   ]
  },
  {
   "cell_type": "markdown",
   "id": "f7a3f76c-cab3-4f6f-a28b-13b69ccc798a",
   "metadata": {},
   "source": [
    "[![Binder](https://mybinder.org/badge_logo.svg)](https://mybinder.org/v2/gh/oddrationale/AdventOfCode2015FSharp/master?urlpath=lab%2Ftree%2FDay01.ipynb)"
   ]
  },
  {
   "cell_type": "markdown",
   "id": "e7022a58-519b-4003-bda8-897513b2e0ee",
   "metadata": {
    "tags": []
   },
   "source": [
    "<p>Santa was hoping for a white Christmas, but his weather machine's \"snow\" function is powered by stars, and he's fresh out!  To save Christmas, he needs you to collect <em class=\"star\">fifty stars</em> by December 25th.</p>\n",
    "<p>Collect stars by helping Santa solve puzzles.  Two puzzles will be made available on each day in the Advent calendar; the second puzzle is unlocked when you complete the first.  Each puzzle grants <em class=\"star\">one star</em>. <span title=\"Also, some puzzles contain Easter eggs like this one. Yes, I know it's not traditional to do Advent calendars for Easter.\">Good luck!</span></p>\n",
    "<p>Here's an easy puzzle to warm you up.</p>\n",
    "<p>Santa is trying to deliver presents in a large apartment building, but he can't find the right floor - the directions he got are a little confusing. He starts on the ground floor (floor <code>0</code>) and then follows the instructions one character at a time.</p>\n",
    "<p>An opening parenthesis, <code>(</code>, means he should go up one floor, and a closing parenthesis, <code>)</code>, means he should go down one floor.</p>\n",
    "<p>The apartment building is very tall, and the basement is very deep; he will never find the top or bottom floors.</p>\n",
    "<p>For example:</p>\n",
    "<ul>\n",
    "<li><code>(())</code> and <code>()()</code> both result in floor <code>0</code>.</li>\n",
    "<li><code>(((</code> and <code>(()(()(</code> both result in floor <code>3</code>.</li>\n",
    "<li><code>))(((((</code> also results in floor <code>3</code>.</li>\n",
    "<li><code>())</code> and <code>))(</code> both result in floor <code>-1</code> (the first basement level).</li>\n",
    "<li><code>)))</code> and <code>)())())</code> both result in floor <code>-3</code>.</li>\n",
    "</ul>\n",
    "<p>To <em>what floor</em> do the instructions take Santa?</p>"
   ]
  },
  {
   "cell_type": "code",
   "execution_count": null,
   "id": "98830dd2-f2e0-4a5f-b494-96ede5801f45",
   "metadata": {
    "dotnet_interactive": {
     "language": "fsharp"
    }
   },
   "outputs": [],
   "source": [
    "let input = File.ReadAllText @\"input/01.txt\""
   ]
  },
  {
   "cell_type": "code",
   "execution_count": null,
   "id": "9f471623-d944-4f7f-a631-ec7c797fdfaf",
   "metadata": {
    "dotnet_interactive": {
     "language": "fsharp"
    }
   },
   "outputs": [],
   "source": [
    "let readDirections char = \n",
    "    match char with\n",
    "    | '(' -> 1\n",
    "    | ')' -> -1\n",
    "    | _ -> 0"
   ]
  },
  {
   "cell_type": "code",
   "execution_count": null,
   "id": "36a2ffcf-a9a9-432b-aeab-d790d98eb1ec",
   "metadata": {
    "dotnet_interactive": {
     "language": "fsharp"
    }
   },
   "outputs": [
    {
     "data": {
      "text/html": [
       "<div class=\"dni-plaintext\">74</div>"
      ]
     },
     "metadata": {},
     "output_type": "display_data"
    }
   ],
   "source": [
    "input \n",
    "|> Seq.map readDirections \n",
    "|> Seq.sum"
   ]
  },
  {
   "cell_type": "markdown",
   "id": "845efdd9-7742-41e1-889d-dc706863d93d",
   "metadata": {},
   "source": [
    "<h2 id=\"part2\">--- Part Two ---</h2>"
   ]
  },
  {
   "cell_type": "markdown",
   "id": "63e23da7-3ba2-4ec5-8622-cff4f915b96c",
   "metadata": {},
   "source": [
    "<p>Now, given the same instructions, find the <em>position</em> of the first character that causes him to enter the basement (floor <code>-1</code>).  The first character in the instructions has position <code>1</code>, the second character has position <code>2</code>, and so on.</p>\n",
    "<p>For example:</p>\n",
    "<ul>\n",
    "<li><code>)</code> causes him to enter the basement at character position <code>1</code>.</li>\n",
    "<li><code>()())</code> causes him to enter the basement at character position <code>5</code>.</li>\n",
    "</ul>\n",
    "<p>What is the <em>position</em> of the character that causes Santa to first enter the basement?</p>"
   ]
  },
  {
   "cell_type": "markdown",
   "id": "5ed89179-b0d5-43ef-bf5a-d16b6d7e0f08",
   "metadata": {},
   "source": [
    "[`Seq.scan`](https://fsharp.github.io/fsharp-core-docs/reference/fsharp-collections-seqmodule.html#scan) is like `fold` but returns a sequence of all the intermediary results as well."
   ]
  },
  {
   "cell_type": "code",
   "execution_count": null,
   "id": "9a573935-01ba-4c8c-984e-3572df391a44",
   "metadata": {
    "dotnet_interactive": {
     "language": "fsharp"
    }
   },
   "outputs": [
    {
     "data": {
      "text/html": [
       "<div class=\"dni-plaintext\">1795</div>"
      ]
     },
     "metadata": {},
     "output_type": "display_data"
    }
   ],
   "source": [
    "input \n",
    "|> Seq.map readDirections\n",
    "|> Seq.scan (fun acc d -> acc + d) 0\n",
    "|> Seq.findIndex (fun f -> f = -1)"
   ]
  },
  {
   "cell_type": "markdown",
   "id": "2cf45427-c80e-4427-963f-cef8340e03e7",
   "metadata": {},
   "source": [
    "[Next](Day02.ipynb)"
   ]
  }
 ],
 "metadata": {
  "kernelspec": {
   "display_name": ".NET (F#)",
   "language": "F#",
   "name": ".net-fsharp"
  },
  "language_info": {
   "file_extension": ".fs",
   "mimetype": "text/x-fsharp",
   "name": "C#",
   "pygments_lexer": "fsharp",
   "version": "4.5"
  }
 },
 "nbformat": 4,
 "nbformat_minor": 5
}
