{
 "cells": [
  {
   "cell_type": "markdown",
   "metadata": {
    "dotnet_interactive": {
     "language": "fsharp"
    }
   },
   "source": [
    "<h2>--- Day 12: JSAbacusFramework.io ---</h2>"
   ]
  },
  {
   "cell_type": "markdown",
   "id": "46054780-5054-46c2-b16c-95de326151ae",
   "metadata": {},
   "source": [
    "[![Binder](https://mybinder.org/badge_logo.svg)](https://mybinder.org/v2/gh/oddrationale/AdventOfCode2015FSharp/master?urlpath=lab%2Ftree%2FDay12.ipynb)"
   ]
  },
  {
   "cell_type": "markdown",
   "metadata": {
    "dotnet_interactive": {
     "language": "fsharp"
    }
   },
   "source": [
    "<p>Santa's Accounting-Elves need help balancing the books after a recent order.  Unfortunately, their accounting software uses a peculiar storage format.  That's where you come in.</p>\n",
    "<p>They have a <a href=\"http://json.org/\">JSON</a> document which contains a variety of things: arrays (<code>[1,2,3]</code>), objects (<code>{\"a\":1, \"b\":2}</code>), numbers, and strings.  Your first job is to simply find all of the <em>numbers</em> throughout the document and add them together.</p>\n",
    "<p>For example:</p>\n",
    "<ul>\n",
    "<li><code>[1,2,3]</code> and <code>{\"a\":2,\"b\":4}</code> both have a sum of <code>6</code>.</li>\n",
    "<li><code>[[[3]]]</code> and <code>{\"a\":{\"b\":4},\"c\":-1}</code> both have a sum of <code>3</code>.</li>\n",
    "<li><code>{\"a\":[-1,1]}</code> and <code>[-1,{\"a\":1}]</code> both have a sum of <code>0</code>.</li>\n",
    "<li><code>[]</code> and <code>{}</code> both have a sum of <code>0</code>.</li>\n",
    "</ul>\n",
    "<p>You will not <span title=\"Nor are you likely to be eaten by a grue... during *this* puzzle, anyway.\">encounter</span> any strings containing numbers.</p>\n",
    "<p>What is the <em>sum of all numbers</em> in the document?</p>"
   ]
  },
  {
   "cell_type": "code",
   "execution_count": null,
   "metadata": {
    "dotnet_interactive": {
     "language": "fsharp"
    }
   },
   "outputs": [],
   "source": [
    "open System.Text.Json"
   ]
  },
  {
   "cell_type": "code",
   "execution_count": null,
   "id": "de56a3ee-fcca-41f8-bd23-22cec760ee60",
   "metadata": {
    "dotnet_interactive": {
     "language": "fsharp"
    },
    "tags": []
   },
   "outputs": [],
   "source": [
    "let input = File.ReadAllText @\"input/12.txt\"\n",
    "let json = JsonDocument.Parse(input)"
   ]
  },
  {
   "cell_type": "code",
   "execution_count": null,
   "metadata": {
    "dotnet_interactive": {
     "language": "fsharp"
    }
   },
   "outputs": [],
   "source": [
    "let rec count1 (jElem: JsonElement) : int =\n",
    "    match jElem.ValueKind with\n",
    "    | JsonValueKind.Array -> \n",
    "        jElem.EnumerateArray() \n",
    "        |> Seq.map (fun e -> count1 e)\n",
    "        |> Seq.sum\n",
    "    | JsonValueKind.Object -> \n",
    "        jElem.EnumerateObject()\n",
    "        |> Seq.map (fun e -> count1 e.Value)\n",
    "        |> Seq.sum\n",
    "    | JsonValueKind.Number -> \n",
    "        jElem.GetInt32()\n",
    "    | _ -> 0"
   ]
  },
  {
   "cell_type": "code",
   "execution_count": null,
   "metadata": {
    "dotnet_interactive": {
     "language": "fsharp"
    }
   },
   "outputs": [
    {
     "data": {
      "text/html": [
       "<div class=\"dni-plaintext\">156366</div>"
      ]
     },
     "metadata": {},
     "output_type": "display_data"
    }
   ],
   "source": [
    "count1 json.RootElement"
   ]
  },
  {
   "cell_type": "markdown",
   "id": "8add84cb-6b57-4b61-aeac-95d05d1909c6",
   "metadata": {},
   "source": [
    "<h2 id=\"part2\">--- Part Two ---</h2>"
   ]
  },
  {
   "cell_type": "markdown",
   "metadata": {
    "dotnet_interactive": {
     "language": "fsharp"
    }
   },
   "source": [
    "<p>Uh oh - the Accounting-Elves have realized that they double-counted everything <em>red</em>.</p>\n",
    "<p>Ignore any object (and all of its children) which has any property with the value <code>\"red\"</code>.  Do this only for objects (<code>{...}</code>), not arrays (<code>[...]</code>).</p>\n",
    "<ul>\n",
    "<li><code>[1,2,3]</code> still has a sum of <code>6</code>.</li>\n",
    "<li><code>[1,{\"c\":\"red\",\"b\":2},3]</code> now has a sum of <code>4</code>, because the middle object is ignored.</li>\n",
    "<li><code>{\"d\":\"red\",\"e\":[1,2,3,4],\"f\":5}</code> now has a sum of <code>0</code>, because the entire structure is ignored.</li>\n",
    "<li><code>[1,\"red\",5]</code> has a sum of <code>6</code>, because <code>\"red\"</code> in an array has no effect.</li>\n",
    "</ul>"
   ]
  },
  {
   "cell_type": "code",
   "execution_count": null,
   "metadata": {
    "dotnet_interactive": {
     "language": "fsharp"
    }
   },
   "outputs": [],
   "source": [
    "let rec count2 (jElem: JsonElement) : int =\n",
    "    match jElem.ValueKind with\n",
    "    | JsonValueKind.Array -> \n",
    "        jElem.EnumerateArray() \n",
    "        |> Seq.map (fun e -> count2 e)\n",
    "        |> Seq.sum\n",
    "    | JsonValueKind.Object -> \n",
    "        if jElem.EnumerateObject() |> Seq.forall (fun e -> e.Value.ToString() <> \"red\") then\n",
    "            jElem.EnumerateObject()\n",
    "            |> Seq.map (fun e -> count2 e.Value)\n",
    "            |> Seq.sum\n",
    "        else\n",
    "            0\n",
    "    | JsonValueKind.Number -> \n",
    "        jElem.GetInt32()\n",
    "    | _ -> 0"
   ]
  },
  {
   "cell_type": "code",
   "execution_count": null,
   "metadata": {
    "dotnet_interactive": {
     "language": "fsharp"
    }
   },
   "outputs": [
    {
     "data": {
      "text/html": [
       "<div class=\"dni-plaintext\">96852</div>"
      ]
     },
     "metadata": {},
     "output_type": "display_data"
    }
   ],
   "source": [
    "count2 json.RootElement"
   ]
  },
  {
   "cell_type": "markdown",
   "id": "7f8bb89c-38a9-4458-97f2-5f32fb425373",
   "metadata": {},
   "source": [
    "[Prev](Day11.ipynb) | [Next](Day13.ipynb)"
   ]
  }
 ],
 "metadata": {
  "kernelspec": {
   "display_name": ".NET (F#)",
   "language": "F#",
   "name": ".net-fsharp"
  },
  "language_info": {
   "name": "F#"
  }
 },
 "nbformat": 4,
 "nbformat_minor": 2
}
